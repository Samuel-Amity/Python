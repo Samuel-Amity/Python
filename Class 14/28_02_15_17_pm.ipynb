{
 "cells": [
  {
   "cell_type": "code",
   "execution_count": 2,
   "id": "2a277e69",
   "metadata": {},
   "outputs": [],
   "source": [
    "# set/dictionary compreshension"
   ]
  },
  {
   "cell_type": "code",
   "execution_count": 4,
   "id": "3c9aebfa",
   "metadata": {},
   "outputs": [
    {
     "data": {
      "text/plain": [
       "[1, 2, 3, 4, 5, 6, 7, 8, 9, 10, 11, 12, 13, 14, 15, 16, 17, 18, 19, 20]"
      ]
     },
     "execution_count": 4,
     "metadata": {},
     "output_type": "execute_result"
    }
   ],
   "source": [
    "[i for i in range(1,21)]"
   ]
  },
  {
   "cell_type": "code",
   "execution_count": 5,
   "id": "60e2b2e5",
   "metadata": {},
   "outputs": [
    {
     "data": {
      "text/plain": [
       "[2, 4, 6, 8, 10, 12, 14, 16, 18, 20]"
      ]
     },
     "execution_count": 5,
     "metadata": {},
     "output_type": "execute_result"
    }
   ],
   "source": [
    "[i for i in range(1,21) if i%2==0]"
   ]
  },
  {
   "cell_type": "code",
   "execution_count": 6,
   "id": "824acfc9",
   "metadata": {},
   "outputs": [
    {
     "data": {
      "text/plain": [
       "[1,\n",
       " 4,\n",
       " 27,\n",
       " 16,\n",
       " 125,\n",
       " 36,\n",
       " 343,\n",
       " 64,\n",
       " 729,\n",
       " 100,\n",
       " 1331,\n",
       " 144,\n",
       " 2197,\n",
       " 196,\n",
       " 3375,\n",
       " 256,\n",
       " 4913,\n",
       " 324,\n",
       " 6859,\n",
       " 400]"
      ]
     },
     "execution_count": 6,
     "metadata": {},
     "output_type": "execute_result"
    }
   ],
   "source": [
    "[i**2 if i%2==0 else i**3 for i in range(1,21)]"
   ]
  },
  {
   "cell_type": "code",
   "execution_count": null,
   "id": "1ba03360",
   "metadata": {},
   "outputs": [],
   "source": []
  },
  {
   "cell_type": "code",
   "execution_count": 7,
   "id": "358c03fa",
   "metadata": {},
   "outputs": [
    {
     "data": {
      "text/plain": [
       "{1, 2, 3, 4, 5, 6, 7, 8, 9, 10}"
      ]
     },
     "execution_count": 7,
     "metadata": {},
     "output_type": "execute_result"
    }
   ],
   "source": [
    "{i for i in range(1,11)}"
   ]
  },
  {
   "cell_type": "code",
   "execution_count": 8,
   "id": "11893833",
   "metadata": {},
   "outputs": [
    {
     "data": {
      "text/plain": [
       "{2, 4, 6, 8, 10}"
      ]
     },
     "execution_count": 8,
     "metadata": {},
     "output_type": "execute_result"
    }
   ],
   "source": [
    "{i for i in range(1,11) if i%2==0}"
   ]
  },
  {
   "cell_type": "code",
   "execution_count": 9,
   "id": "681e5128",
   "metadata": {},
   "outputs": [
    {
     "data": {
      "text/plain": [
       "{1, 4, 16, 27, 36, 64, 100, 125, 343, 729}"
      ]
     },
     "execution_count": 9,
     "metadata": {},
     "output_type": "execute_result"
    }
   ],
   "source": [
    "{i**2 if i%2==0 else i**3 for i in range(1,11)}"
   ]
  },
  {
   "cell_type": "code",
   "execution_count": null,
   "id": "11b339d0",
   "metadata": {},
   "outputs": [],
   "source": []
  },
  {
   "cell_type": "code",
   "execution_count": 10,
   "id": "ed4fb3e6",
   "metadata": {},
   "outputs": [
    {
     "data": {
      "text/plain": [
       "{1: 1, 2: 4, 3: 9, 4: 16, 5: 25, 6: 36, 7: 49, 8: 64, 9: 81, 10: 100}"
      ]
     },
     "execution_count": 10,
     "metadata": {},
     "output_type": "execute_result"
    }
   ],
   "source": [
    "{i:i**2 for i in range(1,11)}"
   ]
  },
  {
   "cell_type": "code",
   "execution_count": 15,
   "id": "b2d79e4f",
   "metadata": {},
   "outputs": [],
   "source": [
    "d = {'a':1, 'b':2, 'c':3, 'd':4, 'e':5, 'f':6, 'g':7, 'h':8}"
   ]
  },
  {
   "cell_type": "code",
   "execution_count": 12,
   "id": "cf01e65e",
   "metadata": {},
   "outputs": [],
   "source": [
    "p = {}\n",
    "for k,v in d.items():\n",
    "    if v>=3:\n",
    "        p[k] = v"
   ]
  },
  {
   "cell_type": "code",
   "execution_count": 13,
   "id": "56a64fc0",
   "metadata": {},
   "outputs": [
    {
     "data": {
      "text/plain": [
       "{'c': 3, 'd': 4, 'e': 5, 'f': 6, 'g': 7, 'h': 8}"
      ]
     },
     "execution_count": 13,
     "metadata": {},
     "output_type": "execute_result"
    }
   ],
   "source": [
    "p"
   ]
  },
  {
   "cell_type": "code",
   "execution_count": 16,
   "id": "86b8ade1",
   "metadata": {},
   "outputs": [
    {
     "data": {
      "text/plain": [
       "{'c': 3, 'd': 4, 'e': 5, 'f': 6, 'g': 7, 'h': 8}"
      ]
     },
     "execution_count": 16,
     "metadata": {},
     "output_type": "execute_result"
    }
   ],
   "source": [
    "{k:v for k, v in d.items() if v>=3}"
   ]
  },
  {
   "cell_type": "code",
   "execution_count": null,
   "id": "d8678418",
   "metadata": {},
   "outputs": [],
   "source": []
  },
  {
   "cell_type": "code",
   "execution_count": 17,
   "id": "4148c113",
   "metadata": {},
   "outputs": [],
   "source": [
    "a = {}\n",
    "for k,v in d.items():\n",
    "    a[v] = k"
   ]
  },
  {
   "cell_type": "code",
   "execution_count": 18,
   "id": "edd0e9b4",
   "metadata": {},
   "outputs": [
    {
     "data": {
      "text/plain": [
       "{1: 'a', 2: 'b', 3: 'c', 4: 'd', 5: 'e', 6: 'f', 7: 'g', 8: 'h'}"
      ]
     },
     "execution_count": 18,
     "metadata": {},
     "output_type": "execute_result"
    }
   ],
   "source": [
    "a"
   ]
  },
  {
   "cell_type": "code",
   "execution_count": 19,
   "id": "9e309f4a",
   "metadata": {},
   "outputs": [
    {
     "data": {
      "text/plain": [
       "{1: 'a', 2: 'b', 3: 'c', 4: 'd', 5: 'e', 6: 'f', 7: 'g', 8: 'h'}"
      ]
     },
     "execution_count": 19,
     "metadata": {},
     "output_type": "execute_result"
    }
   ],
   "source": [
    "{v:k for k,v in d.items()}"
   ]
  },
  {
   "cell_type": "code",
   "execution_count": null,
   "id": "c1391b6e",
   "metadata": {},
   "outputs": [],
   "source": []
  },
  {
   "cell_type": "code",
   "execution_count": 20,
   "id": "17d5e824",
   "metadata": {},
   "outputs": [],
   "source": [
    "my_str = \"abbcccddddeeeeefffffffgggggggghhhhhhhhhh\""
   ]
  },
  {
   "cell_type": "code",
   "execution_count": null,
   "id": "267f2496",
   "metadata": {},
   "outputs": [],
   "source": []
  },
  {
   "cell_type": "code",
   "execution_count": 26,
   "id": "213d3ace",
   "metadata": {},
   "outputs": [],
   "source": [
    "# functional programming:\n",
    "#1. It provides reuseabilty of code\n",
    "#2. with the help of functions we can write modular coding\n",
    "\n",
    "\n",
    "# tese are of two types:\n",
    "#1. UDF - user defined function\n",
    "#2. Built in functions"
   ]
  },
  {
   "cell_type": "code",
   "execution_count": 22,
   "id": "733a14f5",
   "metadata": {},
   "outputs": [
    {
     "name": "stdout",
     "output_type": "stream",
     "text": [
      "100\n"
     ]
    }
   ],
   "source": [
    "print(100)"
   ]
  },
  {
   "cell_type": "code",
   "execution_count": 23,
   "id": "6fc93b77",
   "metadata": {},
   "outputs": [
    {
     "name": "stdout",
     "output_type": "stream",
     "text": [
      "200\n"
     ]
    }
   ],
   "source": [
    "print(200)"
   ]
  },
  {
   "cell_type": "code",
   "execution_count": 24,
   "id": "ddf6ffe2",
   "metadata": {},
   "outputs": [
    {
     "name": "stdout",
     "output_type": "stream",
     "text": [
      "300\n"
     ]
    }
   ],
   "source": [
    "print(300)"
   ]
  },
  {
   "cell_type": "code",
   "execution_count": 27,
   "id": "3f206dd7",
   "metadata": {},
   "outputs": [],
   "source": [
    "#1. UDF - user defined function:"
   ]
  },
  {
   "cell_type": "code",
   "execution_count": 28,
   "id": "a4eb3326",
   "metadata": {},
   "outputs": [
    {
     "ename": "SyntaxError",
     "evalue": "invalid syntax (3152314290.py, line 4)",
     "output_type": "error",
     "traceback": [
      "\u001b[1;36m  Cell \u001b[1;32mIn[28], line 4\u001b[1;36m\u001b[0m\n\u001b[1;33m    print/return\u001b[0m\n\u001b[1;37m          ^\u001b[0m\n\u001b[1;31mSyntaxError\u001b[0m\u001b[1;31m:\u001b[0m invalid syntax\n"
     ]
    }
   ],
   "source": [
    "# def function_name():\n",
    "#     logic\n",
    "#     logic\n",
    "#     print/return"
   ]
  },
  {
   "cell_type": "code",
   "execution_count": 29,
   "id": "3378796b",
   "metadata": {},
   "outputs": [],
   "source": [
    "def greeting(name):\n",
    "    print(\"Hello Good Morning\", name)"
   ]
  },
  {
   "cell_type": "code",
   "execution_count": 30,
   "id": "032d9893",
   "metadata": {},
   "outputs": [
    {
     "data": {
      "text/plain": [
       "function"
      ]
     },
     "execution_count": 30,
     "metadata": {},
     "output_type": "execute_result"
    }
   ],
   "source": [
    "type(greeting)"
   ]
  },
  {
   "cell_type": "code",
   "execution_count": 31,
   "id": "35825405",
   "metadata": {},
   "outputs": [],
   "source": [
    "#calling or revoking a function"
   ]
  },
  {
   "cell_type": "code",
   "execution_count": 33,
   "id": "09136de5",
   "metadata": {},
   "outputs": [
    {
     "name": "stdout",
     "output_type": "stream",
     "text": [
      "Hello Good Morning sahil\n"
     ]
    }
   ],
   "source": [
    "greeting('sahil')"
   ]
  },
  {
   "cell_type": "code",
   "execution_count": 34,
   "id": "6b63e230",
   "metadata": {},
   "outputs": [
    {
     "name": "stdout",
     "output_type": "stream",
     "text": [
      "Hello Good Morning ravi\n"
     ]
    }
   ],
   "source": [
    "greeting('ravi')"
   ]
  },
  {
   "cell_type": "code",
   "execution_count": 35,
   "id": "c412730e",
   "metadata": {},
   "outputs": [
    {
     "name": "stdout",
     "output_type": "stream",
     "text": [
      "Hello Good Morning divy\n"
     ]
    }
   ],
   "source": [
    "greeting('divy')"
   ]
  },
  {
   "cell_type": "code",
   "execution_count": 36,
   "id": "d675f617",
   "metadata": {},
   "outputs": [
    {
     "name": "stdout",
     "output_type": "stream",
     "text": [
      "Hello Good Morning sam\n"
     ]
    }
   ],
   "source": [
    "greeting('sam')"
   ]
  },
  {
   "cell_type": "code",
   "execution_count": 37,
   "id": "8999fa79",
   "metadata": {},
   "outputs": [],
   "source": [
    "def greeting(name):\n",
    "    \"\"\"This function will greet you\"\"\"\n",
    "    print(\"Hello Good Morning\", name)"
   ]
  },
  {
   "cell_type": "code",
   "execution_count": 38,
   "id": "b70668a9",
   "metadata": {},
   "outputs": [],
   "source": [
    "greeting?"
   ]
  },
  {
   "cell_type": "code",
   "execution_count": 39,
   "id": "46285d72",
   "metadata": {},
   "outputs": [
    {
     "data": {
      "text/plain": [
       "'This function will greet you'"
      ]
     },
     "execution_count": 39,
     "metadata": {},
     "output_type": "execute_result"
    }
   ],
   "source": [
    "greeting.__doc__"
   ]
  },
  {
   "cell_type": "code",
   "execution_count": 43,
   "id": "fe6473dd",
   "metadata": {},
   "outputs": [
    {
     "ename": "SyntaxError",
     "evalue": "Missing parentheses in call to 'print'. Did you mean print(...)? (2008076596.py, line 1)",
     "output_type": "error",
     "traceback": [
      "\u001b[1;36m  Cell \u001b[1;32mIn[43], line 1\u001b[1;36m\u001b[0m\n\u001b[1;33m    print v/s return\u001b[0m\n\u001b[1;37m    ^\u001b[0m\n\u001b[1;31mSyntaxError\u001b[0m\u001b[1;31m:\u001b[0m Missing parentheses in call to 'print'. Did you mean print(...)?\n"
     ]
    }
   ],
   "source": [
    "print v/s return"
   ]
  },
  {
   "cell_type": "code",
   "execution_count": 40,
   "id": "cf76a988",
   "metadata": {},
   "outputs": [],
   "source": [
    "def add(a,b):\n",
    "    \"\"\"This function will be adding two numbers\"\"\"\n",
    "    c = a+b\n",
    "    return c"
   ]
  },
  {
   "cell_type": "code",
   "execution_count": 41,
   "id": "c4b604ec",
   "metadata": {},
   "outputs": [
    {
     "data": {
      "text/plain": [
       "11"
      ]
     },
     "execution_count": 41,
     "metadata": {},
     "output_type": "execute_result"
    }
   ],
   "source": [
    "add(5,6)"
   ]
  },
  {
   "cell_type": "code",
   "execution_count": 46,
   "id": "5d005595",
   "metadata": {},
   "outputs": [
    {
     "name": "stdout",
     "output_type": "stream",
     "text": [
      "Hello Good Morning pooja\n"
     ]
    }
   ],
   "source": [
    "g = greeting('pooja')"
   ]
  },
  {
   "cell_type": "code",
   "execution_count": 48,
   "id": "2d628382",
   "metadata": {},
   "outputs": [],
   "source": [
    "y = add(10,12)"
   ]
  },
  {
   "cell_type": "code",
   "execution_count": 47,
   "id": "ff7cda25",
   "metadata": {},
   "outputs": [],
   "source": [
    "g"
   ]
  },
  {
   "cell_type": "code",
   "execution_count": 49,
   "id": "3efc7035",
   "metadata": {},
   "outputs": [
    {
     "data": {
      "text/plain": [
       "22"
      ]
     },
     "execution_count": 49,
     "metadata": {},
     "output_type": "execute_result"
    }
   ],
   "source": [
    "y"
   ]
  },
  {
   "cell_type": "code",
   "execution_count": null,
   "id": "f5d21125",
   "metadata": {},
   "outputs": [],
   "source": []
  },
  {
   "cell_type": "code",
   "execution_count": 50,
   "id": "d0f23409",
   "metadata": {},
   "outputs": [],
   "source": [
    "def circle_area(r):\n",
    "    \"\"\"this will calculate area of a circle\"\"\"\n",
    "    t = 3.14*r*r\n",
    "    return t"
   ]
  },
  {
   "cell_type": "code",
   "execution_count": 51,
   "id": "caa5b868",
   "metadata": {},
   "outputs": [
    {
     "data": {
      "text/plain": [
       "78.5"
      ]
     },
     "execution_count": 51,
     "metadata": {},
     "output_type": "execute_result"
    }
   ],
   "source": [
    "circle_area(5)"
   ]
  },
  {
   "cell_type": "code",
   "execution_count": 52,
   "id": "a91b8312",
   "metadata": {},
   "outputs": [
    {
     "data": {
      "text/plain": [
       "314.0"
      ]
     },
     "execution_count": 52,
     "metadata": {},
     "output_type": "execute_result"
    }
   ],
   "source": [
    "circle_area(10)"
   ]
  },
  {
   "cell_type": "code",
   "execution_count": 53,
   "id": "f4e98ad0",
   "metadata": {},
   "outputs": [
    {
     "data": {
      "text/plain": [
       "706.5"
      ]
     },
     "execution_count": 53,
     "metadata": {},
     "output_type": "execute_result"
    }
   ],
   "source": [
    "circle_area(15)"
   ]
  },
  {
   "cell_type": "code",
   "execution_count": null,
   "id": "2bbcd868",
   "metadata": {},
   "outputs": [],
   "source": []
  },
  {
   "cell_type": "code",
   "execution_count": 58,
   "id": "8cbb130b",
   "metadata": {},
   "outputs": [],
   "source": [
    "def calculator(a,b):\n",
    "    \"\"\"This will provide 4 basic arithmentic operations\"\"\"\n",
    "    return {a+b, a-b, a*b, a/b}66"
   ]
  },
  {
   "cell_type": "code",
   "execution_count": 59,
   "id": "3c223bc1",
   "metadata": {},
   "outputs": [
    {
     "data": {
      "text/plain": [
       "{2.0, 5, 15, 50}"
      ]
     },
     "execution_count": 59,
     "metadata": {},
     "output_type": "execute_result"
    }
   ],
   "source": [
    "calculator(10,5)"
   ]
  },
  {
   "cell_type": "code",
   "execution_count": null,
   "id": "e803419f",
   "metadata": {},
   "outputs": [],
   "source": []
  },
  {
   "cell_type": "code",
   "execution_count": 60,
   "id": "a44e7855",
   "metadata": {},
   "outputs": [],
   "source": [
    "def intersest(p,r,t):\n",
    "    return (p*r*t)/100"
   ]
  },
  {
   "cell_type": "code",
   "execution_count": 61,
   "id": "5489a201",
   "metadata": {},
   "outputs": [
    {
     "data": {
      "text/plain": [
       "15.0"
      ]
     },
     "execution_count": 61,
     "metadata": {},
     "output_type": "execute_result"
    }
   ],
   "source": [
    "intersest(100,5,3)"
   ]
  },
  {
   "cell_type": "code",
   "execution_count": 64,
   "id": "bbbe514b",
   "metadata": {},
   "outputs": [],
   "source": [
    "def product(lst):\n",
    "    \"\"\"\n",
    "    lst : it is a list\n",
    "    result : product of all elements\n",
    "    \"\"\"\n",
    "    \n",
    "    result = 1\n",
    "    for i in lst:\n",
    "        result*=i\n",
    "    return result"
   ]
  },
  {
   "cell_type": "code",
   "execution_count": 67,
   "id": "a2f518a8",
   "metadata": {},
   "outputs": [],
   "source": [
    "g = [4,5,6,1,2]"
   ]
  },
  {
   "cell_type": "code",
   "execution_count": 68,
   "id": "eca4c783",
   "metadata": {},
   "outputs": [
    {
     "data": {
      "text/plain": [
       "240"
      ]
     },
     "execution_count": 68,
     "metadata": {},
     "output_type": "execute_result"
    }
   ],
   "source": [
    "product(g)"
   ]
  },
  {
   "cell_type": "code",
   "execution_count": null,
   "id": "f4b62fd3",
   "metadata": {},
   "outputs": [],
   "source": []
  },
  {
   "cell_type": "code",
   "execution_count": 1,
   "id": "5daff667",
   "metadata": {},
   "outputs": [],
   "source": [
    "my_str = \"abbcccddddeeeeefffffffgggggggghhhhhhhhhh\""
   ]
  },
  {
   "cell_type": "code",
   "execution_count": 2,
   "id": "3dfb4756",
   "metadata": {},
   "outputs": [],
   "source": [
    "#method 1"
   ]
  },
  {
   "cell_type": "code",
   "execution_count": 4,
   "id": "a64f15a1",
   "metadata": {},
   "outputs": [],
   "source": [
    "b = {}\n",
    "for i in my_str:\n",
    "    if i not in b:\n",
    "        b[i]=1\n",
    "    else:\n",
    "        b[i]+=1"
   ]
  },
  {
   "cell_type": "code",
   "execution_count": 5,
   "id": "3ea7ca8d",
   "metadata": {},
   "outputs": [
    {
     "data": {
      "text/plain": [
       "{'a': 1, 'b': 2, 'c': 3, 'd': 4, 'e': 5, 'f': 7, 'g': 8, 'h': 10}"
      ]
     },
     "execution_count": 5,
     "metadata": {},
     "output_type": "execute_result"
    }
   ],
   "source": [
    "b"
   ]
  },
  {
   "cell_type": "code",
   "execution_count": 6,
   "id": "eb4cd33e",
   "metadata": {},
   "outputs": [
    {
     "data": {
      "text/plain": [
       "{'a': 1, 'b': 2, 'c': 3, 'd': 4, 'e': 5, 'f': 7, 'g': 8, 'h': 10}"
      ]
     },
     "execution_count": 6,
     "metadata": {},
     "output_type": "execute_result"
    }
   ],
   "source": [
    "{i:my_str.count(i) for i in my_str}"
   ]
  },
  {
   "cell_type": "code",
   "execution_count": null,
   "id": "4c2ef727",
   "metadata": {},
   "outputs": [],
   "source": []
  },
  {
   "cell_type": "code",
   "execution_count": 7,
   "id": "d13bf1b4",
   "metadata": {},
   "outputs": [],
   "source": [
    "# perimeter of circle "
   ]
  },
  {
   "cell_type": "code",
   "execution_count": 8,
   "id": "3c88b45c",
   "metadata": {},
   "outputs": [],
   "source": [
    "def perimeter(r):\n",
    "    \"\"\"This will calculate permimeter of circle\"\"\"\n",
    "    \n",
    "    return 2*3.14*r"
   ]
  },
  {
   "cell_type": "code",
   "execution_count": 9,
   "id": "dfa93e1b",
   "metadata": {},
   "outputs": [
    {
     "data": {
      "text/plain": [
       "31.400000000000002"
      ]
     },
     "execution_count": 9,
     "metadata": {},
     "output_type": "execute_result"
    }
   ],
   "source": [
    "perimeter(5)"
   ]
  },
  {
   "cell_type": "code",
   "execution_count": null,
   "id": "304e16a1",
   "metadata": {},
   "outputs": [],
   "source": []
  },
  {
   "cell_type": "code",
   "execution_count": 12,
   "id": "7ee23c2f",
   "metadata": {},
   "outputs": [],
   "source": [
    "# lambda functions : these are unknown functions \n",
    "#1. they do not have any name\n",
    "# for quicker functionality\n",
    "# one thime use"
   ]
  },
  {
   "cell_type": "code",
   "execution_count": 14,
   "id": "839e5673",
   "metadata": {},
   "outputs": [
    {
     "data": {
      "text/plain": [
       "11"
      ]
     },
     "execution_count": 14,
     "metadata": {},
     "output_type": "execute_result"
    }
   ],
   "source": [
    "(lambda a,b : a+b)(5,6)"
   ]
  },
  {
   "cell_type": "code",
   "execution_count": 15,
   "id": "6ae31fbf",
   "metadata": {},
   "outputs": [],
   "source": [
    "def add(a,b):\n",
    "    return a+b"
   ]
  },
  {
   "cell_type": "code",
   "execution_count": 16,
   "id": "2bb0fab6",
   "metadata": {},
   "outputs": [
    {
     "data": {
      "text/plain": [
       "9"
      ]
     },
     "execution_count": 16,
     "metadata": {},
     "output_type": "execute_result"
    }
   ],
   "source": [
    "add(4,5)"
   ]
  },
  {
   "cell_type": "code",
   "execution_count": 17,
   "id": "adc6b2d7",
   "metadata": {},
   "outputs": [
    {
     "data": {
      "text/plain": [
       "12"
      ]
     },
     "execution_count": 17,
     "metadata": {},
     "output_type": "execute_result"
    }
   ],
   "source": [
    "add(9,3)"
   ]
  },
  {
   "cell_type": "code",
   "execution_count": 18,
   "id": "b64b4037",
   "metadata": {},
   "outputs": [
    {
     "data": {
      "text/plain": [
       "13"
      ]
     },
     "execution_count": 18,
     "metadata": {},
     "output_type": "execute_result"
    }
   ],
   "source": [
    "add(10,3)"
   ]
  },
  {
   "cell_type": "code",
   "execution_count": 20,
   "id": "0237462d",
   "metadata": {},
   "outputs": [],
   "source": [
    "multiply = lambda x,y : x*y"
   ]
  },
  {
   "cell_type": "code",
   "execution_count": 21,
   "id": "ffc3918d",
   "metadata": {},
   "outputs": [
    {
     "data": {
      "text/plain": [
       "20"
      ]
     },
     "execution_count": 21,
     "metadata": {},
     "output_type": "execute_result"
    }
   ],
   "source": [
    "multiply(4,5)"
   ]
  },
  {
   "cell_type": "code",
   "execution_count": 23,
   "id": "e45682a2",
   "metadata": {},
   "outputs": [
    {
     "data": {
      "text/plain": [
       "6"
      ]
     },
     "execution_count": 23,
     "metadata": {},
     "output_type": "execute_result"
    }
   ],
   "source": [
    "multiply(2,3)"
   ]
  },
  {
   "cell_type": "code",
   "execution_count": 24,
   "id": "d8d23906",
   "metadata": {},
   "outputs": [],
   "source": [
    "def multiply1(p,r):\n",
    "    return p*r"
   ]
  },
  {
   "cell_type": "code",
   "execution_count": 25,
   "id": "970d03f5",
   "metadata": {},
   "outputs": [
    {
     "data": {
      "text/plain": [
       "24"
      ]
     },
     "execution_count": 25,
     "metadata": {},
     "output_type": "execute_result"
    }
   ],
   "source": [
    "multiply1(4,6)"
   ]
  },
  {
   "cell_type": "code",
   "execution_count": 27,
   "id": "5d3752c8",
   "metadata": {},
   "outputs": [
    {
     "data": {
      "text/plain": [
       "9"
      ]
     },
     "execution_count": 27,
     "metadata": {},
     "output_type": "execute_result"
    }
   ],
   "source": [
    "(lambda x,y : x*y)(9,1)"
   ]
  },
  {
   "cell_type": "code",
   "execution_count": 34,
   "id": "5689381d",
   "metadata": {},
   "outputs": [],
   "source": [
    "k = [('navneet', 3), ('zoom', 4), ('abhi', 2), ('kamal',1), ('rohit',5), ('pooja',6)]"
   ]
  },
  {
   "cell_type": "code",
   "execution_count": 32,
   "id": "80b0e2c0",
   "metadata": {},
   "outputs": [],
   "source": [
    "k.sort(reverse=True)"
   ]
  },
  {
   "cell_type": "code",
   "execution_count": 33,
   "id": "5b9e2fb6",
   "metadata": {},
   "outputs": [
    {
     "data": {
      "text/plain": [
       "[('zoom', 4),\n",
       " ('rohit', 5),\n",
       " ('pooja', 6),\n",
       " ('navneet', 3),\n",
       " ('kamal', 1),\n",
       " ('abhi', 2)]"
      ]
     },
     "execution_count": 33,
     "metadata": {},
     "output_type": "execute_result"
    }
   ],
   "source": [
    "k"
   ]
  },
  {
   "cell_type": "code",
   "execution_count": 37,
   "id": "02135f92",
   "metadata": {},
   "outputs": [],
   "source": [
    "k.sort(key=lambda x:x[1])"
   ]
  },
  {
   "cell_type": "code",
   "execution_count": 38,
   "id": "b8841ee5",
   "metadata": {},
   "outputs": [
    {
     "data": {
      "text/plain": [
       "[('kamal', 1),\n",
       " ('abhi', 2),\n",
       " ('navneet', 3),\n",
       " ('zoom', 4),\n",
       " ('rohit', 5),\n",
       " ('pooja', 6)]"
      ]
     },
     "execution_count": 38,
     "metadata": {},
     "output_type": "execute_result"
    }
   ],
   "source": [
    "k"
   ]
  },
  {
   "cell_type": "code",
   "execution_count": null,
   "id": "a2bb16a3",
   "metadata": {},
   "outputs": [],
   "source": []
  },
  {
   "cell_type": "code",
   "execution_count": 39,
   "id": "330b8922",
   "metadata": {},
   "outputs": [],
   "source": [
    "# builtin functions"
   ]
  },
  {
   "cell_type": "code",
   "execution_count": 40,
   "id": "456930aa",
   "metadata": {},
   "outputs": [
    {
     "name": "stdout",
     "output_type": "stream",
     "text": [
      "100\n"
     ]
    }
   ],
   "source": [
    "print(100)"
   ]
  },
  {
   "cell_type": "code",
   "execution_count": 41,
   "id": "24029c2c",
   "metadata": {},
   "outputs": [
    {
     "name": "stdout",
     "output_type": "stream",
     "text": [
      "200\n"
     ]
    }
   ],
   "source": [
    "print(200)"
   ]
  },
  {
   "cell_type": "code",
   "execution_count": 42,
   "id": "e93695f0",
   "metadata": {},
   "outputs": [
    {
     "name": "stdout",
     "output_type": "stream",
     "text": [
      "300\n"
     ]
    }
   ],
   "source": [
    "print(300)"
   ]
  },
  {
   "cell_type": "code",
   "execution_count": 43,
   "id": "1770b5aa",
   "metadata": {},
   "outputs": [
    {
     "data": {
      "text/plain": [
       "5"
      ]
     },
     "execution_count": 43,
     "metadata": {},
     "output_type": "execute_result"
    }
   ],
   "source": [
    "len('hello')"
   ]
  },
  {
   "cell_type": "code",
   "execution_count": 44,
   "id": "a3bbc6c0",
   "metadata": {},
   "outputs": [
    {
     "data": {
      "text/plain": [
       "range(1, 10)"
      ]
     },
     "execution_count": 44,
     "metadata": {},
     "output_type": "execute_result"
    }
   ],
   "source": [
    "range(1,10)"
   ]
  },
  {
   "cell_type": "code",
   "execution_count": 45,
   "id": "2c0a0a7f",
   "metadata": {},
   "outputs": [],
   "source": [
    "a = [10,4,5,6,7,8]"
   ]
  },
  {
   "cell_type": "code",
   "execution_count": 46,
   "id": "f8357bc6",
   "metadata": {},
   "outputs": [
    {
     "data": {
      "text/plain": [
       "40"
      ]
     },
     "execution_count": 46,
     "metadata": {},
     "output_type": "execute_result"
    }
   ],
   "source": [
    "sum(a)"
   ]
  },
  {
   "cell_type": "code",
   "execution_count": 47,
   "id": "397b727d",
   "metadata": {},
   "outputs": [
    {
     "data": {
      "text/plain": [
       "4"
      ]
     },
     "execution_count": 47,
     "metadata": {},
     "output_type": "execute_result"
    }
   ],
   "source": [
    "min(a)"
   ]
  },
  {
   "cell_type": "code",
   "execution_count": 49,
   "id": "c44c791d",
   "metadata": {},
   "outputs": [
    {
     "data": {
      "text/plain": [
       "10"
      ]
     },
     "execution_count": 49,
     "metadata": {},
     "output_type": "execute_result"
    }
   ],
   "source": [
    "max(a)"
   ]
  },
  {
   "cell_type": "code",
   "execution_count": 51,
   "id": "1375d80f",
   "metadata": {},
   "outputs": [],
   "source": [
    "average = sum(a)/len(a)"
   ]
  },
  {
   "cell_type": "code",
   "execution_count": 52,
   "id": "bedb5fa0",
   "metadata": {},
   "outputs": [
    {
     "data": {
      "text/plain": [
       "2"
      ]
     },
     "execution_count": 52,
     "metadata": {},
     "output_type": "execute_result"
    }
   ],
   "source": [
    "round(2.364974)"
   ]
  },
  {
   "cell_type": "code",
   "execution_count": 55,
   "id": "cd776176",
   "metadata": {},
   "outputs": [
    {
     "data": {
      "text/plain": [
       "13.14"
      ]
     },
     "execution_count": 55,
     "metadata": {},
     "output_type": "execute_result"
    }
   ],
   "source": [
    "round(13.136497235,2)"
   ]
  },
  {
   "cell_type": "code",
   "execution_count": 56,
   "id": "7f74e2a6",
   "metadata": {},
   "outputs": [
    {
     "data": {
      "text/plain": [
       "10"
      ]
     },
     "execution_count": 56,
     "metadata": {},
     "output_type": "execute_result"
    }
   ],
   "source": [
    "abs(10)"
   ]
  },
  {
   "cell_type": "code",
   "execution_count": 57,
   "id": "b9d464a5",
   "metadata": {},
   "outputs": [
    {
     "data": {
      "text/plain": [
       "15"
      ]
     },
     "execution_count": 57,
     "metadata": {},
     "output_type": "execute_result"
    }
   ],
   "source": [
    "abs(-15)"
   ]
  },
  {
   "cell_type": "code",
   "execution_count": 58,
   "id": "947644c4",
   "metadata": {},
   "outputs": [],
   "source": [
    "lang = ['html', 'css', 'sql', 'python', 'java']"
   ]
  },
  {
   "cell_type": "code",
   "execution_count": 66,
   "id": "2edb9c5e",
   "metadata": {},
   "outputs": [
    {
     "name": "stdout",
     "output_type": "stream",
     "text": [
      "10 : html\n",
      "11 : css\n",
      "12 : sql\n",
      "13 : python\n",
      "14 : java\n"
     ]
    }
   ],
   "source": [
    "for idx,i in enumerate(lang, start=10 ):\n",
    "    print(idx, \":\" ,i)"
   ]
  },
  {
   "cell_type": "code",
   "execution_count": 60,
   "id": "c17203f9",
   "metadata": {},
   "outputs": [],
   "source": [
    "# enumerate: it adds a counter"
   ]
  },
  {
   "cell_type": "code",
   "execution_count": null,
   "id": "4df7789d",
   "metadata": {},
   "outputs": [],
   "source": []
  },
  {
   "cell_type": "code",
   "execution_count": 68,
   "id": "cdcc240b",
   "metadata": {},
   "outputs": [],
   "source": [
    "# zip: it combines two iterables or compress"
   ]
  },
  {
   "cell_type": "code",
   "execution_count": 69,
   "id": "83b4f497",
   "metadata": {},
   "outputs": [],
   "source": [
    "lang = ['html', 'css', 'sql', 'python', 'java']"
   ]
  },
  {
   "cell_type": "code",
   "execution_count": 70,
   "id": "7cc3601d",
   "metadata": {},
   "outputs": [],
   "source": [
    "test = [90,95,85,99,10]"
   ]
  },
  {
   "cell_type": "code",
   "execution_count": 72,
   "id": "af925a5f",
   "metadata": {},
   "outputs": [
    {
     "data": {
      "text/plain": [
       "[('html', 90), ('css', 95), ('sql', 85), ('python', 99), ('java', 10)]"
      ]
     },
     "execution_count": 72,
     "metadata": {},
     "output_type": "execute_result"
    }
   ],
   "source": [
    "list(zip(lang, test))"
   ]
  },
  {
   "cell_type": "code",
   "execution_count": null,
   "id": "1c956b20",
   "metadata": {},
   "outputs": [],
   "source": []
  },
  {
   "cell_type": "code",
   "execution_count": 73,
   "id": "32a1b989",
   "metadata": {},
   "outputs": [],
   "source": [
    "test = [90,95,85,99]"
   ]
  },
  {
   "cell_type": "code",
   "execution_count": 74,
   "id": "6d81224b",
   "metadata": {},
   "outputs": [],
   "source": [
    "lang = ['html', 'css', 'sql', 'python', 'java']"
   ]
  },
  {
   "cell_type": "code",
   "execution_count": 76,
   "id": "2592b580",
   "metadata": {},
   "outputs": [
    {
     "data": {
      "text/plain": [
       "[('html', 90), ('css', 95), ('sql', 85), ('python', 99)]"
      ]
     },
     "execution_count": 76,
     "metadata": {},
     "output_type": "execute_result"
    }
   ],
   "source": [
    "list(zip(lang, test))"
   ]
  },
  {
   "cell_type": "code",
   "execution_count": null,
   "id": "f403b434",
   "metadata": {},
   "outputs": [],
   "source": []
  },
  {
   "cell_type": "code",
   "execution_count": 77,
   "id": "2937659a",
   "metadata": {},
   "outputs": [],
   "source": [
    "# map, reduce and filter"
   ]
  },
  {
   "cell_type": "code",
   "execution_count": 78,
   "id": "a559898d",
   "metadata": {},
   "outputs": [],
   "source": [
    "lst =  [4,5,6,1,2,3,7,8]"
   ]
  },
  {
   "cell_type": "code",
   "execution_count": 79,
   "id": "d7366af1",
   "metadata": {},
   "outputs": [
    {
     "ename": "TypeError",
     "evalue": "can only concatenate list (not \"int\") to list",
     "output_type": "error",
     "traceback": [
      "\u001b[1;31m---------------------------------------------------------------------------\u001b[0m",
      "\u001b[1;31mTypeError\u001b[0m                                 Traceback (most recent call last)",
      "Cell \u001b[1;32mIn[79], line 1\u001b[0m\n\u001b[1;32m----> 1\u001b[0m lst \u001b[38;5;241m+\u001b[39m \u001b[38;5;241m1\u001b[39m\n",
      "\u001b[1;31mTypeError\u001b[0m: can only concatenate list (not \"int\") to list"
     ]
    }
   ],
   "source": [
    "lst + 1"
   ]
  },
  {
   "cell_type": "code",
   "execution_count": 80,
   "id": "8a41e1b1",
   "metadata": {},
   "outputs": [],
   "source": [
    "p = []\n",
    "for i in lst:\n",
    "    p.append(i+1)"
   ]
  },
  {
   "cell_type": "code",
   "execution_count": 81,
   "id": "62ad4faf",
   "metadata": {},
   "outputs": [
    {
     "data": {
      "text/plain": [
       "[5, 6, 7, 2, 3, 4, 8, 9]"
      ]
     },
     "execution_count": 81,
     "metadata": {},
     "output_type": "execute_result"
    }
   ],
   "source": [
    "p"
   ]
  },
  {
   "cell_type": "code",
   "execution_count": null,
   "id": "48578c3c",
   "metadata": {},
   "outputs": [],
   "source": []
  },
  {
   "cell_type": "code",
   "execution_count": 82,
   "id": "e0020271",
   "metadata": {},
   "outputs": [],
   "source": [
    "def add_one(r):\n",
    "    return r+1"
   ]
  },
  {
   "cell_type": "code",
   "execution_count": 83,
   "id": "532978fd",
   "metadata": {},
   "outputs": [
    {
     "data": {
      "text/plain": [
       "11"
      ]
     },
     "execution_count": 83,
     "metadata": {},
     "output_type": "execute_result"
    }
   ],
   "source": [
    "add_one(10)"
   ]
  },
  {
   "cell_type": "code",
   "execution_count": 84,
   "id": "6696c751",
   "metadata": {},
   "outputs": [
    {
     "data": {
      "text/plain": [
       "13"
      ]
     },
     "execution_count": 84,
     "metadata": {},
     "output_type": "execute_result"
    }
   ],
   "source": [
    "add_one(12)"
   ]
  },
  {
   "cell_type": "code",
   "execution_count": 85,
   "id": "6943b303",
   "metadata": {},
   "outputs": [
    {
     "data": {
      "text/plain": [
       "[4, 5, 6, 1, 2, 3, 7, 8]"
      ]
     },
     "execution_count": 85,
     "metadata": {},
     "output_type": "execute_result"
    }
   ],
   "source": [
    "lst"
   ]
  },
  {
   "cell_type": "code",
   "execution_count": 87,
   "id": "8bd57c8c",
   "metadata": {},
   "outputs": [
    {
     "data": {
      "text/plain": [
       "[5, 6, 7, 2, 3, 4, 8, 9]"
      ]
     },
     "execution_count": 87,
     "metadata": {},
     "output_type": "execute_result"
    }
   ],
   "source": [
    "list(map(add_one, lst))"
   ]
  },
  {
   "cell_type": "code",
   "execution_count": null,
   "id": "2709de63",
   "metadata": {},
   "outputs": [],
   "source": []
  },
  {
   "cell_type": "code",
   "execution_count": 89,
   "id": "e6b3e8fd",
   "metadata": {},
   "outputs": [
    {
     "data": {
      "text/plain": [
       "[5, 6, 7, 2, 3, 4, 8, 9]"
      ]
     },
     "execution_count": 89,
     "metadata": {},
     "output_type": "execute_result"
    }
   ],
   "source": [
    "list(map(lambda d :d+1, lst))"
   ]
  },
  {
   "cell_type": "code",
   "execution_count": null,
   "id": "1a6bedd3",
   "metadata": {},
   "outputs": [],
   "source": []
  },
  {
   "cell_type": "code",
   "execution_count": 90,
   "id": "62cc718d",
   "metadata": {},
   "outputs": [],
   "source": [
    "# filter"
   ]
  },
  {
   "cell_type": "code",
   "execution_count": 91,
   "id": "941e1500",
   "metadata": {},
   "outputs": [
    {
     "data": {
      "text/plain": [
       "[4, 5, 6, 1, 2, 3, 7, 8]"
      ]
     },
     "execution_count": 91,
     "metadata": {},
     "output_type": "execute_result"
    }
   ],
   "source": [
    "lst"
   ]
  },
  {
   "cell_type": "code",
   "execution_count": 93,
   "id": "e114ca1f",
   "metadata": {},
   "outputs": [],
   "source": [
    "k = []\n",
    "for i in lst:\n",
    "    if i%2==0:\n",
    "        k.append(i)"
   ]
  },
  {
   "cell_type": "code",
   "execution_count": 94,
   "id": "1900906f",
   "metadata": {},
   "outputs": [
    {
     "data": {
      "text/plain": [
       "[4, 6, 2, 8]"
      ]
     },
     "execution_count": 94,
     "metadata": {},
     "output_type": "execute_result"
    }
   ],
   "source": [
    "k"
   ]
  },
  {
   "cell_type": "code",
   "execution_count": null,
   "id": "ba1b124f",
   "metadata": {},
   "outputs": [],
   "source": []
  },
  {
   "cell_type": "code",
   "execution_count": 95,
   "id": "97ffc7ac",
   "metadata": {},
   "outputs": [],
   "source": [
    "def even_check(s):\n",
    "    return s%2==0"
   ]
  },
  {
   "cell_type": "code",
   "execution_count": 96,
   "id": "a8c41338",
   "metadata": {},
   "outputs": [
    {
     "data": {
      "text/plain": [
       "True"
      ]
     },
     "execution_count": 96,
     "metadata": {},
     "output_type": "execute_result"
    }
   ],
   "source": [
    "even_check(10)"
   ]
  },
  {
   "cell_type": "code",
   "execution_count": 97,
   "id": "baa7ef32",
   "metadata": {},
   "outputs": [
    {
     "data": {
      "text/plain": [
       "False"
      ]
     },
     "execution_count": 97,
     "metadata": {},
     "output_type": "execute_result"
    }
   ],
   "source": [
    "even_check(11)"
   ]
  },
  {
   "cell_type": "code",
   "execution_count": 98,
   "id": "8e7caa4d",
   "metadata": {},
   "outputs": [
    {
     "data": {
      "text/plain": [
       "[4, 5, 6, 1, 2, 3, 7, 8]"
      ]
     },
     "execution_count": 98,
     "metadata": {},
     "output_type": "execute_result"
    }
   ],
   "source": [
    "lst"
   ]
  },
  {
   "cell_type": "code",
   "execution_count": 100,
   "id": "92b3693b",
   "metadata": {},
   "outputs": [
    {
     "data": {
      "text/plain": [
       "[4, 6, 2, 8]"
      ]
     },
     "execution_count": 100,
     "metadata": {},
     "output_type": "execute_result"
    }
   ],
   "source": [
    "list(filter(even_check, lst))"
   ]
  },
  {
   "cell_type": "code",
   "execution_count": null,
   "id": "f4da38d3",
   "metadata": {},
   "outputs": [],
   "source": []
  },
  {
   "cell_type": "code",
   "execution_count": 103,
   "id": "24054d32",
   "metadata": {},
   "outputs": [
    {
     "data": {
      "text/plain": [
       "[4, 6, 2, 8]"
      ]
     },
     "execution_count": 103,
     "metadata": {},
     "output_type": "execute_result"
    }
   ],
   "source": [
    "list(filter(lambda j:j%2==0, lst))"
   ]
  },
  {
   "cell_type": "code",
   "execution_count": null,
   "id": "237b6297",
   "metadata": {},
   "outputs": [],
   "source": []
  },
  {
   "cell_type": "code",
   "execution_count": 112,
   "id": "314a37b6",
   "metadata": {},
   "outputs": [],
   "source": [
    "lst =  [4,5,6,1,2,3,7,8]"
   ]
  },
  {
   "cell_type": "code",
   "execution_count": 115,
   "id": "dc972b5c",
   "metadata": {},
   "outputs": [],
   "source": [
    "def product(lst):\n",
    "    u = 1\n",
    "    \n",
    "    for i in lst:\n",
    "        u*=i\n",
    "        \n",
    "    return u"
   ]
  },
  {
   "cell_type": "code",
   "execution_count": 116,
   "id": "91bd12ca",
   "metadata": {},
   "outputs": [
    {
     "data": {
      "text/plain": [
       "40320"
      ]
     },
     "execution_count": 116,
     "metadata": {},
     "output_type": "execute_result"
    }
   ],
   "source": [
    "product(lst)"
   ]
  },
  {
   "cell_type": "code",
   "execution_count": null,
   "id": "6186820e",
   "metadata": {},
   "outputs": [],
   "source": []
  },
  {
   "cell_type": "code",
   "execution_count": 117,
   "id": "9d4c536b",
   "metadata": {},
   "outputs": [],
   "source": [
    "from functools import reduce"
   ]
  },
  {
   "cell_type": "code",
   "execution_count": 118,
   "id": "a7137715",
   "metadata": {},
   "outputs": [
    {
     "data": {
      "text/plain": [
       "40320"
      ]
     },
     "execution_count": 118,
     "metadata": {},
     "output_type": "execute_result"
    }
   ],
   "source": [
    "reduce(lambda x,y:x*y, lst)"
   ]
  },
  {
   "cell_type": "code",
   "execution_count": null,
   "id": "a35d198d",
   "metadata": {},
   "outputs": [],
   "source": []
  },
  {
   "cell_type": "code",
   "execution_count": 2,
   "id": "d14fae58",
   "metadata": {},
   "outputs": [],
   "source": [
    "# Arguments vs parameters"
   ]
  },
  {
   "cell_type": "code",
   "execution_count": 4,
   "id": "c056fac7",
   "metadata": {},
   "outputs": [],
   "source": [
    "#parameters\n",
    "def area(r):\n",
    "    return 3.14*r*r"
   ]
  },
  {
   "cell_type": "code",
   "execution_count": 8,
   "id": "fd706beb",
   "metadata": {},
   "outputs": [
    {
     "data": {
      "text/plain": [
       "113.03999999999999"
      ]
     },
     "execution_count": 8,
     "metadata": {},
     "output_type": "execute_result"
    }
   ],
   "source": [
    "#Arguments\n",
    "area(6)"
   ]
  },
  {
   "cell_type": "code",
   "execution_count": 6,
   "id": "734e2807",
   "metadata": {},
   "outputs": [
    {
     "data": {
      "text/plain": [
       "50.24"
      ]
     },
     "execution_count": 6,
     "metadata": {},
     "output_type": "execute_result"
    }
   ],
   "source": [
    "area(4)"
   ]
  },
  {
   "cell_type": "code",
   "execution_count": 7,
   "id": "b3905457",
   "metadata": {},
   "outputs": [
    {
     "data": {
      "text/plain": [
       "78.5"
      ]
     },
     "execution_count": 7,
     "metadata": {},
     "output_type": "execute_result"
    }
   ],
   "source": [
    "area(5)"
   ]
  },
  {
   "cell_type": "code",
   "execution_count": 35,
   "id": "efaf81bf",
   "metadata": {},
   "outputs": [],
   "source": [
    "#Arguments:\n",
    "#1. Positional Argumnets : which are required to pass\n",
    "\n",
    "#2. Default Argumnets : optional\n",
    "\n",
    "#3. arbitrary argumnents  : can take any number of parameters: \n",
    "#it will store in the form of tuple\n",
    "\n",
    "#4. keyword argumnets: they can take n number of argumnets: dictionary"
   ]
  },
  {
   "cell_type": "code",
   "execution_count": 14,
   "id": "f2297622",
   "metadata": {},
   "outputs": [],
   "source": [
    "def introduction(name, nationality):\n",
    "    print(f\"Hello my name is {name}\")\n",
    "    print(\"I am\", nationality)"
   ]
  },
  {
   "cell_type": "code",
   "execution_count": 15,
   "id": "a56f4c23",
   "metadata": {},
   "outputs": [
    {
     "name": "stdout",
     "output_type": "stream",
     "text": [
      "Hello my name is sam\n",
      "I am american\n"
     ]
    }
   ],
   "source": [
    "introduction('sam', 'american')"
   ]
  },
  {
   "cell_type": "code",
   "execution_count": 17,
   "id": "8c5cfdff",
   "metadata": {},
   "outputs": [
    {
     "name": "stdout",
     "output_type": "stream",
     "text": [
      "Hello my name is ravi\n",
      "I am indian\n"
     ]
    }
   ],
   "source": [
    "introduction('ravi', 'indian')"
   ]
  },
  {
   "cell_type": "code",
   "execution_count": 19,
   "id": "567c5d1a",
   "metadata": {},
   "outputs": [
    {
     "name": "stdout",
     "output_type": "stream",
     "text": [
      "Hello my name is pooja\n",
      "I am indian\n"
     ]
    }
   ],
   "source": [
    "introduction( 'pooja', 'indian')"
   ]
  },
  {
   "cell_type": "code",
   "execution_count": null,
   "id": "30bd6c69",
   "metadata": {},
   "outputs": [],
   "source": []
  },
  {
   "cell_type": "code",
   "execution_count": 22,
   "id": "6070df3c",
   "metadata": {},
   "outputs": [],
   "source": [
    "def introduction(name, nationality  = \"indian\"):\n",
    "    print(f\"Hello my name is {name}\")\n",
    "    print(\"I am\", nationality)"
   ]
  },
  {
   "cell_type": "code",
   "execution_count": 23,
   "id": "ea7d0d01",
   "metadata": {},
   "outputs": [
    {
     "ename": "TypeError",
     "evalue": "introduction() missing 1 required positional argument: 'name'",
     "output_type": "error",
     "traceback": [
      "\u001b[1;31m---------------------------------------------------------------------------\u001b[0m",
      "\u001b[1;31mTypeError\u001b[0m                                 Traceback (most recent call last)",
      "Cell \u001b[1;32mIn[23], line 1\u001b[0m\n\u001b[1;32m----> 1\u001b[0m introduction()\n",
      "\u001b[1;31mTypeError\u001b[0m: introduction() missing 1 required positional argument: 'name'"
     ]
    }
   ],
   "source": [
    "introduction()"
   ]
  },
  {
   "cell_type": "code",
   "execution_count": 24,
   "id": "dda8c436",
   "metadata": {},
   "outputs": [
    {
     "name": "stdout",
     "output_type": "stream",
     "text": [
      "Hello my name is Rahul\n",
      "I am indian\n"
     ]
    }
   ],
   "source": [
    "introduction('Rahul')"
   ]
  },
  {
   "cell_type": "code",
   "execution_count": 25,
   "id": "eec83e47",
   "metadata": {},
   "outputs": [
    {
     "name": "stdout",
     "output_type": "stream",
     "text": [
      "Hello my name is clerk\n",
      "I am American\n"
     ]
    }
   ],
   "source": [
    "introduction('clerk', 'American')"
   ]
  },
  {
   "cell_type": "code",
   "execution_count": 28,
   "id": "678f5aa7",
   "metadata": {},
   "outputs": [
    {
     "ename": "TypeError",
     "evalue": "introduction() takes from 1 to 2 positional arguments but 3 were given",
     "output_type": "error",
     "traceback": [
      "\u001b[1;31m---------------------------------------------------------------------------\u001b[0m",
      "\u001b[1;31mTypeError\u001b[0m                                 Traceback (most recent call last)",
      "Cell \u001b[1;32mIn[28], line 1\u001b[0m\n\u001b[1;32m----> 1\u001b[0m introduction(\u001b[38;5;124m'\u001b[39m\u001b[38;5;124mnavneet\u001b[39m\u001b[38;5;124m'\u001b[39m, \u001b[38;5;124m'\u001b[39m\u001b[38;5;124mUK\u001b[39m\u001b[38;5;124m'\u001b[39m, \u001b[38;5;241m30\u001b[39m)\n",
      "\u001b[1;31mTypeError\u001b[0m: introduction() takes from 1 to 2 positional arguments but 3 were given"
     ]
    }
   ],
   "source": [
    "introduction('navneet', 'UK', 30)"
   ]
  },
  {
   "cell_type": "code",
   "execution_count": 31,
   "id": "f7b0e103",
   "metadata": {},
   "outputs": [],
   "source": [
    "def test(*args):\n",
    "    print(args)\n",
    "    print(type(args))\n",
    "    \n",
    "    for i in args:\n",
    "        print(i)"
   ]
  },
  {
   "cell_type": "code",
   "execution_count": 33,
   "id": "5a9bbde5",
   "metadata": {},
   "outputs": [
    {
     "name": "stdout",
     "output_type": "stream",
     "text": [
      "(4, 8, 9, 10, 30, 2.6, 7.4, 'python', 'google', 7, 8, 9, 10)\n",
      "<class 'tuple'>\n",
      "4\n",
      "8\n",
      "9\n",
      "10\n",
      "30\n",
      "2.6\n",
      "7.4\n",
      "python\n",
      "google\n",
      "7\n",
      "8\n",
      "9\n",
      "10\n"
     ]
    }
   ],
   "source": [
    "test(4,8,9,10,30,2.6,7.4,'python', 'google',7,8,9,10)"
   ]
  },
  {
   "cell_type": "code",
   "execution_count": null,
   "id": "9dc6d866",
   "metadata": {},
   "outputs": [],
   "source": []
  },
  {
   "cell_type": "code",
   "execution_count": 38,
   "id": "bb753cf2",
   "metadata": {},
   "outputs": [],
   "source": [
    "def user(**kwargs):\n",
    "    print(kwargs)\n",
    "    print(type(kwargs))\n",
    "    \n",
    "    \n",
    "    for k,v in kwargs.items():\n",
    "        print(k,v)"
   ]
  },
  {
   "cell_type": "code",
   "execution_count": 39,
   "id": "93f34297",
   "metadata": {},
   "outputs": [
    {
     "name": "stdout",
     "output_type": "stream",
     "text": [
      "{'name': 'ishneet', 'age': 25, 'company': 'google', 'hobby': 'coding'}\n",
      "<class 'dict'>\n",
      "name ishneet\n",
      "age 25\n",
      "company google\n",
      "hobby coding\n"
     ]
    }
   ],
   "source": [
    "user(name = 'ishneet', age = 25, company = 'google', hobby = 'coding')"
   ]
  },
  {
   "cell_type": "code",
   "execution_count": null,
   "id": "77c23338",
   "metadata": {},
   "outputs": [],
   "source": []
  },
  {
   "cell_type": "code",
   "execution_count": null,
   "id": "cdf7eda4",
   "metadata": {},
   "outputs": [],
   "source": []
  },
  {
   "cell_type": "code",
   "execution_count": 61,
   "id": "32cbdf80",
   "metadata": {},
   "outputs": [],
   "source": [
    "#all() : logical AND\n",
    "#any() : logical or"
   ]
  },
  {
   "cell_type": "code",
   "execution_count": 42,
   "id": "8e3eefc6",
   "metadata": {},
   "outputs": [],
   "source": [
    "t = [7,8,9,10,12]"
   ]
  },
  {
   "cell_type": "code",
   "execution_count": 43,
   "id": "b9c1e62e",
   "metadata": {},
   "outputs": [
    {
     "data": {
      "text/plain": [
       "True"
      ]
     },
     "execution_count": 43,
     "metadata": {},
     "output_type": "execute_result"
    }
   ],
   "source": [
    "all(t)"
   ]
  },
  {
   "cell_type": "code",
   "execution_count": 44,
   "id": "48912f5c",
   "metadata": {},
   "outputs": [
    {
     "data": {
      "text/plain": [
       "True"
      ]
     },
     "execution_count": 44,
     "metadata": {},
     "output_type": "execute_result"
    }
   ],
   "source": [
    "any(t)"
   ]
  },
  {
   "cell_type": "code",
   "execution_count": 46,
   "id": "ba724cb8",
   "metadata": {},
   "outputs": [],
   "source": [
    "k = [2,-1,6,7]"
   ]
  },
  {
   "cell_type": "code",
   "execution_count": 47,
   "id": "fc82837b",
   "metadata": {},
   "outputs": [
    {
     "data": {
      "text/plain": [
       "True"
      ]
     },
     "execution_count": 47,
     "metadata": {},
     "output_type": "execute_result"
    }
   ],
   "source": [
    "all(k)"
   ]
  },
  {
   "cell_type": "code",
   "execution_count": 48,
   "id": "88fedb03",
   "metadata": {},
   "outputs": [
    {
     "data": {
      "text/plain": [
       "True"
      ]
     },
     "execution_count": 48,
     "metadata": {},
     "output_type": "execute_result"
    }
   ],
   "source": [
    "any(k)"
   ]
  },
  {
   "cell_type": "code",
   "execution_count": null,
   "id": "2f15d861",
   "metadata": {},
   "outputs": [],
   "source": []
  },
  {
   "cell_type": "code",
   "execution_count": 52,
   "id": "8fd243b0",
   "metadata": {},
   "outputs": [],
   "source": [
    "p = [2,-1,6,7,0]"
   ]
  },
  {
   "cell_type": "code",
   "execution_count": 50,
   "id": "989cc6cf",
   "metadata": {},
   "outputs": [
    {
     "data": {
      "text/plain": [
       "False"
      ]
     },
     "execution_count": 50,
     "metadata": {},
     "output_type": "execute_result"
    }
   ],
   "source": [
    "all(p)"
   ]
  },
  {
   "cell_type": "code",
   "execution_count": 51,
   "id": "3cefc567",
   "metadata": {},
   "outputs": [
    {
     "data": {
      "text/plain": [
       "True"
      ]
     },
     "execution_count": 51,
     "metadata": {},
     "output_type": "execute_result"
    }
   ],
   "source": [
    "any(p)"
   ]
  },
  {
   "cell_type": "code",
   "execution_count": null,
   "id": "e46a823c",
   "metadata": {},
   "outputs": [],
   "source": []
  },
  {
   "cell_type": "code",
   "execution_count": 53,
   "id": "f63087a0",
   "metadata": {},
   "outputs": [],
   "source": [
    "h = [False, 1, -1, 2]"
   ]
  },
  {
   "cell_type": "code",
   "execution_count": 54,
   "id": "19555340",
   "metadata": {},
   "outputs": [
    {
     "data": {
      "text/plain": [
       "False"
      ]
     },
     "execution_count": 54,
     "metadata": {},
     "output_type": "execute_result"
    }
   ],
   "source": [
    "all(h)"
   ]
  },
  {
   "cell_type": "code",
   "execution_count": 55,
   "id": "b4d45002",
   "metadata": {},
   "outputs": [
    {
     "data": {
      "text/plain": [
       "True"
      ]
     },
     "execution_count": 55,
     "metadata": {},
     "output_type": "execute_result"
    }
   ],
   "source": [
    "any(h)"
   ]
  },
  {
   "cell_type": "code",
   "execution_count": 56,
   "id": "9d84610b",
   "metadata": {},
   "outputs": [],
   "source": [
    "c = []"
   ]
  },
  {
   "cell_type": "code",
   "execution_count": 59,
   "id": "c50501d8",
   "metadata": {},
   "outputs": [
    {
     "data": {
      "text/plain": [
       "True"
      ]
     },
     "execution_count": 59,
     "metadata": {},
     "output_type": "execute_result"
    }
   ],
   "source": [
    "all(c)  # ckecing False"
   ]
  },
  {
   "cell_type": "code",
   "execution_count": 60,
   "id": "dcf61f6a",
   "metadata": {},
   "outputs": [
    {
     "data": {
      "text/plain": [
       "False"
      ]
     },
     "execution_count": 60,
     "metadata": {},
     "output_type": "execute_result"
    }
   ],
   "source": [
    "any(c)  # checking True"
   ]
  },
  {
   "cell_type": "code",
   "execution_count": 70,
   "id": "5d957478",
   "metadata": {},
   "outputs": [],
   "source": [
    "# dir - it shows or displays all the methods and functions \n",
    "# which are associated with any object"
   ]
  },
  {
   "cell_type": "code",
   "execution_count": 63,
   "id": "f92079bd",
   "metadata": {},
   "outputs": [
    {
     "data": {
      "text/plain": [
       "[False, 1, -1, 2]"
      ]
     },
     "execution_count": 63,
     "metadata": {},
     "output_type": "execute_result"
    }
   ],
   "source": [
    "h"
   ]
  },
  {
   "cell_type": "code",
   "execution_count": 65,
   "id": "881180c0",
   "metadata": {},
   "outputs": [
    {
     "name": "stdout",
     "output_type": "stream",
     "text": [
      "['__add__', '__class__', '__class_getitem__', '__contains__', '__delattr__', '__delitem__', '__dir__', '__doc__', '__eq__', '__format__', '__ge__', '__getattribute__', '__getitem__', '__getstate__', '__gt__', '__hash__', '__iadd__', '__imul__', '__init__', '__init_subclass__', '__iter__', '__le__', '__len__', '__lt__', '__mul__', '__ne__', '__new__', '__reduce__', '__reduce_ex__', '__repr__', '__reversed__', '__rmul__', '__setattr__', '__setitem__', '__sizeof__', '__str__', '__subclasshook__', 'append', 'clear', 'copy', 'count', 'extend', 'index', 'insert', 'pop', 'remove', 'reverse', 'sort']\n"
     ]
    }
   ],
   "source": [
    "print(dir(h))"
   ]
  },
  {
   "cell_type": "code",
   "execution_count": 68,
   "id": "08f686f6",
   "metadata": {},
   "outputs": [
    {
     "name": "stdout",
     "output_type": "stream",
     "text": [
      "['__add__', '__class__', '__contains__', '__delattr__', '__dir__', '__doc__', '__eq__', '__format__', '__ge__', '__getattribute__', '__getitem__', '__getnewargs__', '__getstate__', '__gt__', '__hash__', '__init__', '__init_subclass__', '__iter__', '__le__', '__len__', '__lt__', '__mod__', '__mul__', '__ne__', '__new__', '__reduce__', '__reduce_ex__', '__repr__', '__rmod__', '__rmul__', '__setattr__', '__sizeof__', '__str__', '__subclasshook__', 'capitalize', 'casefold', 'center', 'count', 'encode', 'endswith', 'expandtabs', 'find', 'format', 'format_map', 'index', 'isalnum', 'isalpha', 'isascii', 'isdecimal', 'isdigit', 'isidentifier', 'islower', 'isnumeric', 'isprintable', 'isspace', 'istitle', 'isupper', 'join', 'ljust', 'lower', 'lstrip', 'maketrans', 'partition', 'removeprefix', 'removesuffix', 'replace', 'rfind', 'rindex', 'rjust', 'rpartition', 'rsplit', 'rstrip', 'split', 'splitlines', 'startswith', 'strip', 'swapcase', 'title', 'translate', 'upper', 'zfill']\n"
     ]
    }
   ],
   "source": [
    "print(dir(\"hello\"))"
   ]
  },
  {
   "cell_type": "code",
   "execution_count": null,
   "id": "86491d63",
   "metadata": {},
   "outputs": [],
   "source": []
  },
  {
   "cell_type": "code",
   "execution_count": 69,
   "id": "ca5b0d4a",
   "metadata": {},
   "outputs": [
    {
     "ename": "SyntaxError",
     "evalue": "invalid syntax (4278246338.py, line 1)",
     "output_type": "error",
     "traceback": [
      "\u001b[1;36m  Cell \u001b[1;32mIn[69], line 1\u001b[1;36m\u001b[0m\n\u001b[1;33m    global variables vs local variables\u001b[0m\n\u001b[1;37m                     ^\u001b[0m\n\u001b[1;31mSyntaxError\u001b[0m\u001b[1;31m:\u001b[0m invalid syntax\n"
     ]
    }
   ],
   "source": [
    "global variables vs local variables"
   ]
  },
  {
   "cell_type": "code",
   "execution_count": 72,
   "id": "1df32acf",
   "metadata": {},
   "outputs": [
    {
     "name": "stdout",
     "output_type": "stream",
     "text": [
      "Help on built-in function sum in module builtins:\n",
      "\n",
      "sum(iterable, /, start=0)\n",
      "    Return the sum of a 'start' value (default: 0) plus an iterable of numbers\n",
      "    \n",
      "    When the iterable is empty, return the start value.\n",
      "    This function is intended specifically for use with numeric values and may\n",
      "    reject non-numeric types.\n",
      "\n"
     ]
    }
   ],
   "source": [
    "help(sum)"
   ]
  },
  {
   "cell_type": "code",
   "execution_count": 73,
   "id": "4d42772f",
   "metadata": {},
   "outputs": [
    {
     "name": "stdout",
     "output_type": "stream",
     "text": [
      "Help on built-in function len in module builtins:\n",
      "\n",
      "len(obj, /)\n",
      "    Return the number of items in a container.\n",
      "\n"
     ]
    }
   ],
   "source": [
    "help(len)"
   ]
  },
  {
   "cell_type": "code",
   "execution_count": 74,
   "id": "a17c8e2f",
   "metadata": {},
   "outputs": [
    {
     "name": "stdout",
     "output_type": "stream",
     "text": [
      "Help on function user in module __main__:\n",
      "\n",
      "user(**kwargs)\n",
      "\n"
     ]
    }
   ],
   "source": [
    "help(user)"
   ]
  },
  {
   "cell_type": "code",
   "execution_count": 75,
   "id": "86429db1",
   "metadata": {},
   "outputs": [],
   "source": [
    "#global variables vs local variables"
   ]
  },
  {
   "cell_type": "code",
   "execution_count": 76,
   "id": "e6a91105",
   "metadata": {},
   "outputs": [],
   "source": [
    "age = 25"
   ]
  },
  {
   "cell_type": "code",
   "execution_count": 77,
   "id": "f6f93418",
   "metadata": {},
   "outputs": [
    {
     "data": {
      "text/plain": [
       "25"
      ]
     },
     "execution_count": 77,
     "metadata": {},
     "output_type": "execute_result"
    }
   ],
   "source": [
    "age"
   ]
  },
  {
   "cell_type": "code",
   "execution_count": 78,
   "id": "5224788e",
   "metadata": {},
   "outputs": [
    {
     "data": {
      "text/plain": [
       "25"
      ]
     },
     "execution_count": 78,
     "metadata": {},
     "output_type": "execute_result"
    }
   ],
   "source": [
    "age"
   ]
  },
  {
   "cell_type": "code",
   "execution_count": 79,
   "id": "f43d7f15",
   "metadata": {},
   "outputs": [
    {
     "data": {
      "text/plain": [
       "{'__name__': '__main__',\n",
       " '__doc__': 'Automatically created module for IPython interactive environment',\n",
       " '__package__': None,\n",
       " '__loader__': None,\n",
       " '__spec__': None,\n",
       " '__builtin__': <module 'builtins' (built-in)>,\n",
       " '__builtins__': <module 'builtins' (built-in)>,\n",
       " '_ih': ['',\n",
       "  '# Arguments vs paramerters',\n",
       "  '# Arguments vs parameters',\n",
       "  'def area(r):\\n    return 3.14*r*r',\n",
       "  '#parameters\\ndef area(r):\\n    return 3.14*r*r',\n",
       "  'area(6)',\n",
       "  'area(4)',\n",
       "  'area(5)',\n",
       "  '#Arguments\\narea(6)',\n",
       "  '#Arguments:\\n#1. Positional Argumnets \\n#2. Default Argumnets\\n#3. arbitrary argumnents \\n#4. keyword argumnets',\n",
       "  'def intro(name, nationality):\\n    print(f\"Hello my name is {name}\")\\n    print(\"I am\", nationality)',\n",
       "  \"intro('sam', 'american')\",\n",
       "  'intro()',\n",
       "  '#Arguments:\\n#1. Positional Argumnets : whicj are required to pass\\n#2. Default Argumnets\\n#3. arbitrary argumnents \\n#4. keyword argumnets',\n",
       "  'def introduction(name, nationality):\\n    print(f\"Hello my name is {name}\")\\n    print(\"I am\", nationality)',\n",
       "  \"introduction('sam', 'american')\",\n",
       "  'introduction()',\n",
       "  \"introduction('ravi', 'indian')\",\n",
       "  \"introduction('indian', 'pooja')\",\n",
       "  \"introduction( 'pooja', 'indian',)\",\n",
       "  '#Arguments:\\n#1. Positional Argumnets : which are required to pass\\n#2. Default Argumnets : optional\\n#3. arbitrary argumnents \\n#4. keyword argumnets',\n",
       "  'def introduction(name, nationality):\\n    print(f\"Hello my name is {name}\")\\n    print(\"I am\", nationality)',\n",
       "  'def introduction(name, nationality  = \"indian\"):\\n    print(f\"Hello my name is {name}\")\\n    print(\"I am\", nationality)',\n",
       "  'introduction()',\n",
       "  \"introduction('Rahul')\",\n",
       "  \"introduction('clerk', 'American')\",\n",
       "  'introduction()',\n",
       "  \"introduction('navneet', 'UK')\",\n",
       "  \"introduction('navneet', 'UK', 30)\",\n",
       "  '#Arguments:\\n#1. Positional Argumnets : which are required to pass\\n#2. Default Argumnets : optional\\n#3. arbitrary argumnents  : can take any number of parameters\\n#4. keyword argumnets',\n",
       "  'def test(*kamal):\\n    print(kamal)\\n    print(type(kamal))\\n    \\n    for i in kamal:\\n        print(i)',\n",
       "  'def test(*args):\\n    print(args)\\n    print(type(args))\\n    \\n    for i in args:\\n        print(i)',\n",
       "  \"test(4,8,9,10,30,2.6,7.4,'python', 'google')\",\n",
       "  \"test(4,8,9,10,30,2.6,7.4,'python', 'google',7,8,9,10)\",\n",
       "  '#Arguments:\\n#1. Positional Argumnets : which are required to pass\\n#2. Default Argumnets : optional\\n#3. arbitrary argumnents  : can take any number of parameters: it will store in the form of tuple\\n#4. keyword argumnets: they can take n number of argumnets: dictionary',\n",
       "  '#Arguments:\\n#1. Positional Argumnets : which are required to pass\\n#2. Default Argumnets : optional\\n#3. arbitrary argumnents  : can take any number of parameters: it will store in the form of tuple\\n#4. keyword argumnets: they can take n number of argumnets: dictinary',\n",
       "  'def user(**sanjay):\\n    print(sanjay)\\n    print(type(sanjay))\\n    \\n    \\n    for k,v in sanjay.items():\\n        print(k,v)',\n",
       "  \"user(name = 'ishneet', age = 25, company = 'google', hobby = 'coding')\",\n",
       "  'def user(**kwargs):\\n    print(kwargs)\\n    print(type(kwargs))\\n    \\n    \\n    for k,v in kwargs.items():\\n        print(k,v)',\n",
       "  \"user(name = 'ishneet', age = 25, company = 'google', hobby = 'coding')\",\n",
       "  'all()\\nany()',\n",
       "  'all() : logical AND\\nany() : logical or',\n",
       "  't = [7,8,9,10,12]',\n",
       "  'all(t)',\n",
       "  'any(t)',\n",
       "  'k = [2,-1,6,7]',\n",
       "  'k = [2,-1,6,7]',\n",
       "  'all(k)',\n",
       "  'any(k)',\n",
       "  'p = [2,-1,6,7,0]',\n",
       "  'all(p)',\n",
       "  'any(p)',\n",
       "  'p = [2,-1,6,7,0]',\n",
       "  'h = [False, 1, -1, 2]',\n",
       "  'all(h)',\n",
       "  'any(h)',\n",
       "  'c = []',\n",
       "  'all(c)',\n",
       "  'any(c)',\n",
       "  'all(c)  # ckecing False',\n",
       "  'any(c)  # checking True',\n",
       "  '#all() : logical AND\\n#any() : logical or',\n",
       "  '# dir - it shows or displays all the methods and functions which are associated with \\n#any object',\n",
       "  'h',\n",
       "  'dir(h)',\n",
       "  'print(dir(h))',\n",
       "  '\"hello\"',\n",
       "  'dir(\"hello\")',\n",
       "  'print(dir(\"hello\"))',\n",
       "  'global variables vs local variables',\n",
       "  '# dir - it shows or displays all the methods and functions \\n# which are associated with any object',\n",
       "  'help(sum)',\n",
       "  'help(sum)',\n",
       "  'help(len)',\n",
       "  'help(user)',\n",
       "  '#global variables vs local variables',\n",
       "  'age = 25',\n",
       "  'age',\n",
       "  'age',\n",
       "  'globals()'],\n",
       " '_oh': {5: 113.03999999999999,\n",
       "  6: 50.24,\n",
       "  7: 78.5,\n",
       "  8: 113.03999999999999,\n",
       "  43: True,\n",
       "  44: True,\n",
       "  47: True,\n",
       "  48: True,\n",
       "  50: False,\n",
       "  51: True,\n",
       "  54: False,\n",
       "  55: True,\n",
       "  57: True,\n",
       "  58: False,\n",
       "  59: True,\n",
       "  60: False,\n",
       "  63: [False, 1, -1, 2],\n",
       "  64: ['__add__',\n",
       "   '__class__',\n",
       "   '__class_getitem__',\n",
       "   '__contains__',\n",
       "   '__delattr__',\n",
       "   '__delitem__',\n",
       "   '__dir__',\n",
       "   '__doc__',\n",
       "   '__eq__',\n",
       "   '__format__',\n",
       "   '__ge__',\n",
       "   '__getattribute__',\n",
       "   '__getitem__',\n",
       "   '__getstate__',\n",
       "   '__gt__',\n",
       "   '__hash__',\n",
       "   '__iadd__',\n",
       "   '__imul__',\n",
       "   '__init__',\n",
       "   '__init_subclass__',\n",
       "   '__iter__',\n",
       "   '__le__',\n",
       "   '__len__',\n",
       "   '__lt__',\n",
       "   '__mul__',\n",
       "   '__ne__',\n",
       "   '__new__',\n",
       "   '__reduce__',\n",
       "   '__reduce_ex__',\n",
       "   '__repr__',\n",
       "   '__reversed__',\n",
       "   '__rmul__',\n",
       "   '__setattr__',\n",
       "   '__setitem__',\n",
       "   '__sizeof__',\n",
       "   '__str__',\n",
       "   '__subclasshook__',\n",
       "   'append',\n",
       "   'clear',\n",
       "   'copy',\n",
       "   'count',\n",
       "   'extend',\n",
       "   'index',\n",
       "   'insert',\n",
       "   'pop',\n",
       "   'remove',\n",
       "   'reverse',\n",
       "   'sort'],\n",
       "  66: 'hello',\n",
       "  67: ['__add__',\n",
       "   '__class__',\n",
       "   '__contains__',\n",
       "   '__delattr__',\n",
       "   '__dir__',\n",
       "   '__doc__',\n",
       "   '__eq__',\n",
       "   '__format__',\n",
       "   '__ge__',\n",
       "   '__getattribute__',\n",
       "   '__getitem__',\n",
       "   '__getnewargs__',\n",
       "   '__getstate__',\n",
       "   '__gt__',\n",
       "   '__hash__',\n",
       "   '__init__',\n",
       "   '__init_subclass__',\n",
       "   '__iter__',\n",
       "   '__le__',\n",
       "   '__len__',\n",
       "   '__lt__',\n",
       "   '__mod__',\n",
       "   '__mul__',\n",
       "   '__ne__',\n",
       "   '__new__',\n",
       "   '__reduce__',\n",
       "   '__reduce_ex__',\n",
       "   '__repr__',\n",
       "   '__rmod__',\n",
       "   '__rmul__',\n",
       "   '__setattr__',\n",
       "   '__sizeof__',\n",
       "   '__str__',\n",
       "   '__subclasshook__',\n",
       "   'capitalize',\n",
       "   'casefold',\n",
       "   'center',\n",
       "   'count',\n",
       "   'encode',\n",
       "   'endswith',\n",
       "   'expandtabs',\n",
       "   'find',\n",
       "   'format',\n",
       "   'format_map',\n",
       "   'index',\n",
       "   'isalnum',\n",
       "   'isalpha',\n",
       "   'isascii',\n",
       "   'isdecimal',\n",
       "   'isdigit',\n",
       "   'isidentifier',\n",
       "   'islower',\n",
       "   'isnumeric',\n",
       "   'isprintable',\n",
       "   'isspace',\n",
       "   'istitle',\n",
       "   'isupper',\n",
       "   'join',\n",
       "   'ljust',\n",
       "   'lower',\n",
       "   'lstrip',\n",
       "   'maketrans',\n",
       "   'partition',\n",
       "   'removeprefix',\n",
       "   'removesuffix',\n",
       "   'replace',\n",
       "   'rfind',\n",
       "   'rindex',\n",
       "   'rjust',\n",
       "   'rpartition',\n",
       "   'rsplit',\n",
       "   'rstrip',\n",
       "   'split',\n",
       "   'splitlines',\n",
       "   'startswith',\n",
       "   'strip',\n",
       "   'swapcase',\n",
       "   'title',\n",
       "   'translate',\n",
       "   'upper',\n",
       "   'zfill'],\n",
       "  77: 25,\n",
       "  78: 25},\n",
       " '_dh': [WindowsPath('C:/Users/hp/Downloads')],\n",
       " 'In': ['',\n",
       "  '# Arguments vs paramerters',\n",
       "  '# Arguments vs parameters',\n",
       "  'def area(r):\\n    return 3.14*r*r',\n",
       "  '#parameters\\ndef area(r):\\n    return 3.14*r*r',\n",
       "  'area(6)',\n",
       "  'area(4)',\n",
       "  'area(5)',\n",
       "  '#Arguments\\narea(6)',\n",
       "  '#Arguments:\\n#1. Positional Argumnets \\n#2. Default Argumnets\\n#3. arbitrary argumnents \\n#4. keyword argumnets',\n",
       "  'def intro(name, nationality):\\n    print(f\"Hello my name is {name}\")\\n    print(\"I am\", nationality)',\n",
       "  \"intro('sam', 'american')\",\n",
       "  'intro()',\n",
       "  '#Arguments:\\n#1. Positional Argumnets : whicj are required to pass\\n#2. Default Argumnets\\n#3. arbitrary argumnents \\n#4. keyword argumnets',\n",
       "  'def introduction(name, nationality):\\n    print(f\"Hello my name is {name}\")\\n    print(\"I am\", nationality)',\n",
       "  \"introduction('sam', 'american')\",\n",
       "  'introduction()',\n",
       "  \"introduction('ravi', 'indian')\",\n",
       "  \"introduction('indian', 'pooja')\",\n",
       "  \"introduction( 'pooja', 'indian',)\",\n",
       "  '#Arguments:\\n#1. Positional Argumnets : which are required to pass\\n#2. Default Argumnets : optional\\n#3. arbitrary argumnents \\n#4. keyword argumnets',\n",
       "  'def introduction(name, nationality):\\n    print(f\"Hello my name is {name}\")\\n    print(\"I am\", nationality)',\n",
       "  'def introduction(name, nationality  = \"indian\"):\\n    print(f\"Hello my name is {name}\")\\n    print(\"I am\", nationality)',\n",
       "  'introduction()',\n",
       "  \"introduction('Rahul')\",\n",
       "  \"introduction('clerk', 'American')\",\n",
       "  'introduction()',\n",
       "  \"introduction('navneet', 'UK')\",\n",
       "  \"introduction('navneet', 'UK', 30)\",\n",
       "  '#Arguments:\\n#1. Positional Argumnets : which are required to pass\\n#2. Default Argumnets : optional\\n#3. arbitrary argumnents  : can take any number of parameters\\n#4. keyword argumnets',\n",
       "  'def test(*kamal):\\n    print(kamal)\\n    print(type(kamal))\\n    \\n    for i in kamal:\\n        print(i)',\n",
       "  'def test(*args):\\n    print(args)\\n    print(type(args))\\n    \\n    for i in args:\\n        print(i)',\n",
       "  \"test(4,8,9,10,30,2.6,7.4,'python', 'google')\",\n",
       "  \"test(4,8,9,10,30,2.6,7.4,'python', 'google',7,8,9,10)\",\n",
       "  '#Arguments:\\n#1. Positional Argumnets : which are required to pass\\n#2. Default Argumnets : optional\\n#3. arbitrary argumnents  : can take any number of parameters: it will store in the form of tuple\\n#4. keyword argumnets: they can take n number of argumnets: dictionary',\n",
       "  '#Arguments:\\n#1. Positional Argumnets : which are required to pass\\n#2. Default Argumnets : optional\\n#3. arbitrary argumnents  : can take any number of parameters: it will store in the form of tuple\\n#4. keyword argumnets: they can take n number of argumnets: dictinary',\n",
       "  'def user(**sanjay):\\n    print(sanjay)\\n    print(type(sanjay))\\n    \\n    \\n    for k,v in sanjay.items():\\n        print(k,v)',\n",
       "  \"user(name = 'ishneet', age = 25, company = 'google', hobby = 'coding')\",\n",
       "  'def user(**kwargs):\\n    print(kwargs)\\n    print(type(kwargs))\\n    \\n    \\n    for k,v in kwargs.items():\\n        print(k,v)',\n",
       "  \"user(name = 'ishneet', age = 25, company = 'google', hobby = 'coding')\",\n",
       "  'all()\\nany()',\n",
       "  'all() : logical AND\\nany() : logical or',\n",
       "  't = [7,8,9,10,12]',\n",
       "  'all(t)',\n",
       "  'any(t)',\n",
       "  'k = [2,-1,6,7]',\n",
       "  'k = [2,-1,6,7]',\n",
       "  'all(k)',\n",
       "  'any(k)',\n",
       "  'p = [2,-1,6,7,0]',\n",
       "  'all(p)',\n",
       "  'any(p)',\n",
       "  'p = [2,-1,6,7,0]',\n",
       "  'h = [False, 1, -1, 2]',\n",
       "  'all(h)',\n",
       "  'any(h)',\n",
       "  'c = []',\n",
       "  'all(c)',\n",
       "  'any(c)',\n",
       "  'all(c)  # ckecing False',\n",
       "  'any(c)  # checking True',\n",
       "  '#all() : logical AND\\n#any() : logical or',\n",
       "  '# dir - it shows or displays all the methods and functions which are associated with \\n#any object',\n",
       "  'h',\n",
       "  'dir(h)',\n",
       "  'print(dir(h))',\n",
       "  '\"hello\"',\n",
       "  'dir(\"hello\")',\n",
       "  'print(dir(\"hello\"))',\n",
       "  'global variables vs local variables',\n",
       "  '# dir - it shows or displays all the methods and functions \\n# which are associated with any object',\n",
       "  'help(sum)',\n",
       "  'help(sum)',\n",
       "  'help(len)',\n",
       "  'help(user)',\n",
       "  '#global variables vs local variables',\n",
       "  'age = 25',\n",
       "  'age',\n",
       "  'age',\n",
       "  'globals()'],\n",
       " 'Out': {5: 113.03999999999999,\n",
       "  6: 50.24,\n",
       "  7: 78.5,\n",
       "  8: 113.03999999999999,\n",
       "  43: True,\n",
       "  44: True,\n",
       "  47: True,\n",
       "  48: True,\n",
       "  50: False,\n",
       "  51: True,\n",
       "  54: False,\n",
       "  55: True,\n",
       "  57: True,\n",
       "  58: False,\n",
       "  59: True,\n",
       "  60: False,\n",
       "  63: [False, 1, -1, 2],\n",
       "  64: ['__add__',\n",
       "   '__class__',\n",
       "   '__class_getitem__',\n",
       "   '__contains__',\n",
       "   '__delattr__',\n",
       "   '__delitem__',\n",
       "   '__dir__',\n",
       "   '__doc__',\n",
       "   '__eq__',\n",
       "   '__format__',\n",
       "   '__ge__',\n",
       "   '__getattribute__',\n",
       "   '__getitem__',\n",
       "   '__getstate__',\n",
       "   '__gt__',\n",
       "   '__hash__',\n",
       "   '__iadd__',\n",
       "   '__imul__',\n",
       "   '__init__',\n",
       "   '__init_subclass__',\n",
       "   '__iter__',\n",
       "   '__le__',\n",
       "   '__len__',\n",
       "   '__lt__',\n",
       "   '__mul__',\n",
       "   '__ne__',\n",
       "   '__new__',\n",
       "   '__reduce__',\n",
       "   '__reduce_ex__',\n",
       "   '__repr__',\n",
       "   '__reversed__',\n",
       "   '__rmul__',\n",
       "   '__setattr__',\n",
       "   '__setitem__',\n",
       "   '__sizeof__',\n",
       "   '__str__',\n",
       "   '__subclasshook__',\n",
       "   'append',\n",
       "   'clear',\n",
       "   'copy',\n",
       "   'count',\n",
       "   'extend',\n",
       "   'index',\n",
       "   'insert',\n",
       "   'pop',\n",
       "   'remove',\n",
       "   'reverse',\n",
       "   'sort'],\n",
       "  66: 'hello',\n",
       "  67: ['__add__',\n",
       "   '__class__',\n",
       "   '__contains__',\n",
       "   '__delattr__',\n",
       "   '__dir__',\n",
       "   '__doc__',\n",
       "   '__eq__',\n",
       "   '__format__',\n",
       "   '__ge__',\n",
       "   '__getattribute__',\n",
       "   '__getitem__',\n",
       "   '__getnewargs__',\n",
       "   '__getstate__',\n",
       "   '__gt__',\n",
       "   '__hash__',\n",
       "   '__init__',\n",
       "   '__init_subclass__',\n",
       "   '__iter__',\n",
       "   '__le__',\n",
       "   '__len__',\n",
       "   '__lt__',\n",
       "   '__mod__',\n",
       "   '__mul__',\n",
       "   '__ne__',\n",
       "   '__new__',\n",
       "   '__reduce__',\n",
       "   '__reduce_ex__',\n",
       "   '__repr__',\n",
       "   '__rmod__',\n",
       "   '__rmul__',\n",
       "   '__setattr__',\n",
       "   '__sizeof__',\n",
       "   '__str__',\n",
       "   '__subclasshook__',\n",
       "   'capitalize',\n",
       "   'casefold',\n",
       "   'center',\n",
       "   'count',\n",
       "   'encode',\n",
       "   'endswith',\n",
       "   'expandtabs',\n",
       "   'find',\n",
       "   'format',\n",
       "   'format_map',\n",
       "   'index',\n",
       "   'isalnum',\n",
       "   'isalpha',\n",
       "   'isascii',\n",
       "   'isdecimal',\n",
       "   'isdigit',\n",
       "   'isidentifier',\n",
       "   'islower',\n",
       "   'isnumeric',\n",
       "   'isprintable',\n",
       "   'isspace',\n",
       "   'istitle',\n",
       "   'isupper',\n",
       "   'join',\n",
       "   'ljust',\n",
       "   'lower',\n",
       "   'lstrip',\n",
       "   'maketrans',\n",
       "   'partition',\n",
       "   'removeprefix',\n",
       "   'removesuffix',\n",
       "   'replace',\n",
       "   'rfind',\n",
       "   'rindex',\n",
       "   'rjust',\n",
       "   'rpartition',\n",
       "   'rsplit',\n",
       "   'rstrip',\n",
       "   'split',\n",
       "   'splitlines',\n",
       "   'startswith',\n",
       "   'strip',\n",
       "   'swapcase',\n",
       "   'title',\n",
       "   'translate',\n",
       "   'upper',\n",
       "   'zfill'],\n",
       "  77: 25,\n",
       "  78: 25},\n",
       " 'get_ipython': <bound method InteractiveShell.get_ipython of <ipykernel.zmqshell.ZMQInteractiveShell object at 0x00000140A047D510>>,\n",
       " 'exit': <IPython.core.autocall.ZMQExitAutocall at 0x140a0488f10>,\n",
       " 'quit': <IPython.core.autocall.ZMQExitAutocall at 0x140a0488f10>,\n",
       " 'open': <function io.open(file, mode='r', buffering=-1, encoding=None, errors=None, newline=None, closefd=True, opener=None)>,\n",
       " '_': 25,\n",
       " '__': 25,\n",
       " '___': ['__add__',\n",
       "  '__class__',\n",
       "  '__contains__',\n",
       "  '__delattr__',\n",
       "  '__dir__',\n",
       "  '__doc__',\n",
       "  '__eq__',\n",
       "  '__format__',\n",
       "  '__ge__',\n",
       "  '__getattribute__',\n",
       "  '__getitem__',\n",
       "  '__getnewargs__',\n",
       "  '__getstate__',\n",
       "  '__gt__',\n",
       "  '__hash__',\n",
       "  '__init__',\n",
       "  '__init_subclass__',\n",
       "  '__iter__',\n",
       "  '__le__',\n",
       "  '__len__',\n",
       "  '__lt__',\n",
       "  '__mod__',\n",
       "  '__mul__',\n",
       "  '__ne__',\n",
       "  '__new__',\n",
       "  '__reduce__',\n",
       "  '__reduce_ex__',\n",
       "  '__repr__',\n",
       "  '__rmod__',\n",
       "  '__rmul__',\n",
       "  '__setattr__',\n",
       "  '__sizeof__',\n",
       "  '__str__',\n",
       "  '__subclasshook__',\n",
       "  'capitalize',\n",
       "  'casefold',\n",
       "  'center',\n",
       "  'count',\n",
       "  'encode',\n",
       "  'endswith',\n",
       "  'expandtabs',\n",
       "  'find',\n",
       "  'format',\n",
       "  'format_map',\n",
       "  'index',\n",
       "  'isalnum',\n",
       "  'isalpha',\n",
       "  'isascii',\n",
       "  'isdecimal',\n",
       "  'isdigit',\n",
       "  'isidentifier',\n",
       "  'islower',\n",
       "  'isnumeric',\n",
       "  'isprintable',\n",
       "  'isspace',\n",
       "  'istitle',\n",
       "  'isupper',\n",
       "  'join',\n",
       "  'ljust',\n",
       "  'lower',\n",
       "  'lstrip',\n",
       "  'maketrans',\n",
       "  'partition',\n",
       "  'removeprefix',\n",
       "  'removesuffix',\n",
       "  'replace',\n",
       "  'rfind',\n",
       "  'rindex',\n",
       "  'rjust',\n",
       "  'rpartition',\n",
       "  'rsplit',\n",
       "  'rstrip',\n",
       "  'split',\n",
       "  'splitlines',\n",
       "  'startswith',\n",
       "  'strip',\n",
       "  'swapcase',\n",
       "  'title',\n",
       "  'translate',\n",
       "  'upper',\n",
       "  'zfill'],\n",
       " '_i': 'age',\n",
       " '_ii': 'age',\n",
       " '_iii': 'age = 25',\n",
       " '_i1': '# Arguments vs paramerters',\n",
       " '_i2': '# Arguments vs parameters',\n",
       " '_i3': 'def area(r):\\n    return 3.14*r*r',\n",
       " 'area': <function __main__.area(r)>,\n",
       " '_i4': '#parameters\\ndef area(r):\\n    return 3.14*r*r',\n",
       " '_i5': 'area(6)',\n",
       " '_5': 113.03999999999999,\n",
       " '_i6': 'area(4)',\n",
       " '_6': 50.24,\n",
       " '_i7': 'area(5)',\n",
       " '_7': 78.5,\n",
       " '_i8': '#Arguments\\narea(6)',\n",
       " '_8': 113.03999999999999,\n",
       " '_i9': '#Arguments:\\n#1. Positional Argumnets \\n#2. Default Argumnets\\n#3. arbitrary argumnents \\n#4. keyword argumnets',\n",
       " '_i10': 'def intro(name, nationality):\\n    print(f\"Hello my name is {name}\")\\n    print(\"I am\", nationality)',\n",
       " 'intro': <function __main__.intro(name, nationality)>,\n",
       " '_i11': \"intro('sam', 'american')\",\n",
       " '_i12': 'intro()',\n",
       " '_i13': '#Arguments:\\n#1. Positional Argumnets : whicj are required to pass\\n#2. Default Argumnets\\n#3. arbitrary argumnents \\n#4. keyword argumnets',\n",
       " '_i14': 'def introduction(name, nationality):\\n    print(f\"Hello my name is {name}\")\\n    print(\"I am\", nationality)',\n",
       " 'introduction': <function __main__.introduction(name, nationality='indian')>,\n",
       " '_i15': \"introduction('sam', 'american')\",\n",
       " '_i16': 'introduction()',\n",
       " '_i17': \"introduction('ravi', 'indian')\",\n",
       " '_i18': \"introduction('indian', 'pooja')\",\n",
       " '_i19': \"introduction( 'pooja', 'indian',)\",\n",
       " '_i20': '#Arguments:\\n#1. Positional Argumnets : which are required to pass\\n#2. Default Argumnets : optional\\n#3. arbitrary argumnents \\n#4. keyword argumnets',\n",
       " '_i21': 'def introduction(name, nationality):\\n    print(f\"Hello my name is {name}\")\\n    print(\"I am\", nationality)',\n",
       " '_i22': 'def introduction(name, nationality  = \"indian\"):\\n    print(f\"Hello my name is {name}\")\\n    print(\"I am\", nationality)',\n",
       " '_i23': 'introduction()',\n",
       " '_i24': \"introduction('Rahul')\",\n",
       " '_i25': \"introduction('clerk', 'American')\",\n",
       " '_i26': 'introduction()',\n",
       " '_i27': \"introduction('navneet', 'UK')\",\n",
       " '_i28': \"introduction('navneet', 'UK', 30)\",\n",
       " '_i29': '#Arguments:\\n#1. Positional Argumnets : which are required to pass\\n#2. Default Argumnets : optional\\n#3. arbitrary argumnents  : can take any number of parameters\\n#4. keyword argumnets',\n",
       " '_i30': 'def test(*kamal):\\n    print(kamal)\\n    print(type(kamal))\\n    \\n    for i in kamal:\\n        print(i)',\n",
       " 'test': <function __main__.test(*args)>,\n",
       " '_i31': 'def test(*args):\\n    print(args)\\n    print(type(args))\\n    \\n    for i in args:\\n        print(i)',\n",
       " '_i32': \"test(4,8,9,10,30,2.6,7.4,'python', 'google')\",\n",
       " '_i33': \"test(4,8,9,10,30,2.6,7.4,'python', 'google',7,8,9,10)\",\n",
       " '_i34': '#Arguments:\\n#1. Positional Argumnets : which are required to pass\\n#2. Default Argumnets : optional\\n#3. arbitrary argumnents  : can take any number of parameters: it will store in the form of tuple\\n#4. keyword argumnets: they can take n number of argumnets: dictionary',\n",
       " '_i35': '#Arguments:\\n#1. Positional Argumnets : which are required to pass\\n#2. Default Argumnets : optional\\n#3. arbitrary argumnents  : can take any number of parameters: it will store in the form of tuple\\n#4. keyword argumnets: they can take n number of argumnets: dictinary',\n",
       " '_i36': 'def user(**sanjay):\\n    print(sanjay)\\n    print(type(sanjay))\\n    \\n    \\n    for k,v in sanjay.items():\\n        print(k,v)',\n",
       " 'user': <function __main__.user(**kwargs)>,\n",
       " '_i37': \"user(name = 'ishneet', age = 25, company = 'google', hobby = 'coding')\",\n",
       " '_i38': 'def user(**kwargs):\\n    print(kwargs)\\n    print(type(kwargs))\\n    \\n    \\n    for k,v in kwargs.items():\\n        print(k,v)',\n",
       " '_i39': \"user(name = 'ishneet', age = 25, company = 'google', hobby = 'coding')\",\n",
       " '_i40': 'all()\\nany()',\n",
       " '_i41': 'all() : logical AND\\nany() : logical or',\n",
       " '_i42': 't = [7,8,9,10,12]',\n",
       " 't': [7, 8, 9, 10, 12],\n",
       " '_i43': 'all(t)',\n",
       " '_43': True,\n",
       " '_i44': 'any(t)',\n",
       " '_44': True,\n",
       " '_i45': 'k = [2,-1,6,7]',\n",
       " 'k': [2, -1, 6, 7],\n",
       " '_i46': 'k = [2,-1,6,7]',\n",
       " '_i47': 'all(k)',\n",
       " '_47': True,\n",
       " '_i48': 'any(k)',\n",
       " '_48': True,\n",
       " '_i49': 'p = [2,-1,6,7,0]',\n",
       " 'p': [2, -1, 6, 7, 0],\n",
       " '_i50': 'all(p)',\n",
       " '_50': False,\n",
       " '_i51': 'any(p)',\n",
       " '_51': True,\n",
       " '_i52': 'p = [2,-1,6,7,0]',\n",
       " '_i53': 'h = [False, 1, -1, 2]',\n",
       " 'h': [False, 1, -1, 2],\n",
       " '_i54': 'all(h)',\n",
       " '_54': False,\n",
       " '_i55': 'any(h)',\n",
       " '_55': True,\n",
       " '_i56': 'c = []',\n",
       " 'c': [],\n",
       " '_i57': 'all(c)',\n",
       " '_57': True,\n",
       " '_i58': 'any(c)',\n",
       " '_58': False,\n",
       " '_i59': 'all(c)  # ckecing False',\n",
       " '_59': True,\n",
       " '_i60': 'any(c)  # checking True',\n",
       " '_60': False,\n",
       " '_i61': '#all() : logical AND\\n#any() : logical or',\n",
       " '_i62': '# dir - it shows or displays all the methods and functions which are associated with \\n#any object',\n",
       " '_i63': 'h',\n",
       " '_63': [False, 1, -1, 2],\n",
       " '_i64': 'dir(h)',\n",
       " '_64': ['__add__',\n",
       "  '__class__',\n",
       "  '__class_getitem__',\n",
       "  '__contains__',\n",
       "  '__delattr__',\n",
       "  '__delitem__',\n",
       "  '__dir__',\n",
       "  '__doc__',\n",
       "  '__eq__',\n",
       "  '__format__',\n",
       "  '__ge__',\n",
       "  '__getattribute__',\n",
       "  '__getitem__',\n",
       "  '__getstate__',\n",
       "  '__gt__',\n",
       "  '__hash__',\n",
       "  '__iadd__',\n",
       "  '__imul__',\n",
       "  '__init__',\n",
       "  '__init_subclass__',\n",
       "  '__iter__',\n",
       "  '__le__',\n",
       "  '__len__',\n",
       "  '__lt__',\n",
       "  '__mul__',\n",
       "  '__ne__',\n",
       "  '__new__',\n",
       "  '__reduce__',\n",
       "  '__reduce_ex__',\n",
       "  '__repr__',\n",
       "  '__reversed__',\n",
       "  '__rmul__',\n",
       "  '__setattr__',\n",
       "  '__setitem__',\n",
       "  '__sizeof__',\n",
       "  '__str__',\n",
       "  '__subclasshook__',\n",
       "  'append',\n",
       "  'clear',\n",
       "  'copy',\n",
       "  'count',\n",
       "  'extend',\n",
       "  'index',\n",
       "  'insert',\n",
       "  'pop',\n",
       "  'remove',\n",
       "  'reverse',\n",
       "  'sort'],\n",
       " '_i65': 'print(dir(h))',\n",
       " '_i66': '\"hello\"',\n",
       " '_66': 'hello',\n",
       " '_i67': 'dir(\"hello\")',\n",
       " '_67': ['__add__',\n",
       "  '__class__',\n",
       "  '__contains__',\n",
       "  '__delattr__',\n",
       "  '__dir__',\n",
       "  '__doc__',\n",
       "  '__eq__',\n",
       "  '__format__',\n",
       "  '__ge__',\n",
       "  '__getattribute__',\n",
       "  '__getitem__',\n",
       "  '__getnewargs__',\n",
       "  '__getstate__',\n",
       "  '__gt__',\n",
       "  '__hash__',\n",
       "  '__init__',\n",
       "  '__init_subclass__',\n",
       "  '__iter__',\n",
       "  '__le__',\n",
       "  '__len__',\n",
       "  '__lt__',\n",
       "  '__mod__',\n",
       "  '__mul__',\n",
       "  '__ne__',\n",
       "  '__new__',\n",
       "  '__reduce__',\n",
       "  '__reduce_ex__',\n",
       "  '__repr__',\n",
       "  '__rmod__',\n",
       "  '__rmul__',\n",
       "  '__setattr__',\n",
       "  '__sizeof__',\n",
       "  '__str__',\n",
       "  '__subclasshook__',\n",
       "  'capitalize',\n",
       "  'casefold',\n",
       "  'center',\n",
       "  'count',\n",
       "  'encode',\n",
       "  'endswith',\n",
       "  'expandtabs',\n",
       "  'find',\n",
       "  'format',\n",
       "  'format_map',\n",
       "  'index',\n",
       "  'isalnum',\n",
       "  'isalpha',\n",
       "  'isascii',\n",
       "  'isdecimal',\n",
       "  'isdigit',\n",
       "  'isidentifier',\n",
       "  'islower',\n",
       "  'isnumeric',\n",
       "  'isprintable',\n",
       "  'isspace',\n",
       "  'istitle',\n",
       "  'isupper',\n",
       "  'join',\n",
       "  'ljust',\n",
       "  'lower',\n",
       "  'lstrip',\n",
       "  'maketrans',\n",
       "  'partition',\n",
       "  'removeprefix',\n",
       "  'removesuffix',\n",
       "  'replace',\n",
       "  'rfind',\n",
       "  'rindex',\n",
       "  'rjust',\n",
       "  'rpartition',\n",
       "  'rsplit',\n",
       "  'rstrip',\n",
       "  'split',\n",
       "  'splitlines',\n",
       "  'startswith',\n",
       "  'strip',\n",
       "  'swapcase',\n",
       "  'title',\n",
       "  'translate',\n",
       "  'upper',\n",
       "  'zfill'],\n",
       " '_i68': 'print(dir(\"hello\"))',\n",
       " '_i69': 'global variables vs local variables',\n",
       " '_i70': '# dir - it shows or displays all the methods and functions \\n# which are associated with any object',\n",
       " '_i71': 'help(sum)',\n",
       " '_i72': 'help(sum)',\n",
       " '_i73': 'help(len)',\n",
       " '_i74': 'help(user)',\n",
       " '_i75': '#global variables vs local variables',\n",
       " '_i76': 'age = 25',\n",
       " 'age': 25,\n",
       " '_i77': 'age',\n",
       " '_77': 25,\n",
       " '_i78': 'age',\n",
       " '_78': 25,\n",
       " '_i79': 'globals()'}"
      ]
     },
     "execution_count": 79,
     "metadata": {},
     "output_type": "execute_result"
    }
   ],
   "source": [
    "globals()"
   ]
  },
  {
   "cell_type": "code",
   "execution_count": 80,
   "id": "6cdc4c42",
   "metadata": {},
   "outputs": [
    {
     "data": {
      "text/plain": [
       "25"
      ]
     },
     "execution_count": 80,
     "metadata": {},
     "output_type": "execute_result"
    }
   ],
   "source": [
    "age"
   ]
  },
  {
   "cell_type": "code",
   "execution_count": 82,
   "id": "301e5e37",
   "metadata": {},
   "outputs": [
    {
     "data": {
      "text/plain": [
       "25"
      ]
     },
     "execution_count": 82,
     "metadata": {},
     "output_type": "execute_result"
    }
   ],
   "source": [
    "globals()['age']"
   ]
  },
  {
   "cell_type": "code",
   "execution_count": 83,
   "id": "9eb16d10",
   "metadata": {},
   "outputs": [
    {
     "data": {
      "text/plain": [
       "25"
      ]
     },
     "execution_count": 83,
     "metadata": {},
     "output_type": "execute_result"
    }
   ],
   "source": [
    "age"
   ]
  },
  {
   "cell_type": "code",
   "execution_count": 84,
   "id": "0de5dd1c",
   "metadata": {},
   "outputs": [],
   "source": [
    "# global variable : they have global scope : \n",
    "#they can be recognised inside or outside a functions\n",
    "\n",
    "# local Variable : they have local scope : \n",
    "#they work only and only inside a function "
   ]
  },
  {
   "cell_type": "code",
   "execution_count": 98,
   "id": "53eccd95",
   "metadata": {},
   "outputs": [],
   "source": [
    "a = 100\n",
    "\n",
    "def test1():\n",
    "    b = 200\n",
    "    \n",
    "    print(a)\n",
    "    print(b)"
   ]
  },
  {
   "cell_type": "code",
   "execution_count": 99,
   "id": "746ace5a",
   "metadata": {},
   "outputs": [
    {
     "name": "stdout",
     "output_type": "stream",
     "text": [
      "100\n"
     ]
    }
   ],
   "source": [
    "print(a)"
   ]
  },
  {
   "cell_type": "code",
   "execution_count": 100,
   "id": "36a4882d",
   "metadata": {},
   "outputs": [
    {
     "name": "stdout",
     "output_type": "stream",
     "text": [
      "100\n",
      "200\n"
     ]
    }
   ],
   "source": [
    "test1()"
   ]
  },
  {
   "cell_type": "code",
   "execution_count": 101,
   "id": "e079fe01",
   "metadata": {},
   "outputs": [
    {
     "ename": "NameError",
     "evalue": "name 'b' is not defined",
     "output_type": "error",
     "traceback": [
      "\u001b[1;31m---------------------------------------------------------------------------\u001b[0m",
      "\u001b[1;31mNameError\u001b[0m                                 Traceback (most recent call last)",
      "Cell \u001b[1;32mIn[101], line 1\u001b[0m\n\u001b[1;32m----> 1\u001b[0m \u001b[38;5;28mprint\u001b[39m(b)\n",
      "\u001b[1;31mNameError\u001b[0m: name 'b' is not defined"
     ]
    }
   ],
   "source": [
    "print(b)"
   ]
  },
  {
   "cell_type": "code",
   "execution_count": 88,
   "id": "3a5e7a66",
   "metadata": {},
   "outputs": [],
   "source": [
    "a = 100\n",
    "\n",
    "def test1():\n",
    "    a = 200\n",
    "    \n",
    "    print(a)"
   ]
  },
  {
   "cell_type": "code",
   "execution_count": 89,
   "id": "6a2f25ae",
   "metadata": {},
   "outputs": [
    {
     "name": "stdout",
     "output_type": "stream",
     "text": [
      "100\n"
     ]
    }
   ],
   "source": [
    "print(a)"
   ]
  },
  {
   "cell_type": "code",
   "execution_count": 90,
   "id": "e447d59e",
   "metadata": {},
   "outputs": [
    {
     "name": "stdout",
     "output_type": "stream",
     "text": [
      "200\n"
     ]
    }
   ],
   "source": [
    "test1()"
   ]
  },
  {
   "cell_type": "code",
   "execution_count": 91,
   "id": "f01260a9",
   "metadata": {},
   "outputs": [
    {
     "name": "stdout",
     "output_type": "stream",
     "text": [
      "100\n"
     ]
    }
   ],
   "source": [
    "print(a)"
   ]
  },
  {
   "cell_type": "code",
   "execution_count": null,
   "id": "6e434adb",
   "metadata": {},
   "outputs": [],
   "source": []
  },
  {
   "cell_type": "code",
   "execution_count": 93,
   "id": "fac3d659",
   "metadata": {},
   "outputs": [],
   "source": [
    "a = 100\n",
    "\n",
    "def test1():\n",
    "    global a\n",
    "    a = 200\n",
    "    \n",
    "    print(a)"
   ]
  },
  {
   "cell_type": "code",
   "execution_count": 94,
   "id": "9ccdf3ef",
   "metadata": {},
   "outputs": [
    {
     "name": "stdout",
     "output_type": "stream",
     "text": [
      "100\n"
     ]
    }
   ],
   "source": [
    "print(a)"
   ]
  },
  {
   "cell_type": "code",
   "execution_count": 95,
   "id": "edfe60b0",
   "metadata": {},
   "outputs": [
    {
     "name": "stdout",
     "output_type": "stream",
     "text": [
      "200\n"
     ]
    }
   ],
   "source": [
    "test1()"
   ]
  },
  {
   "cell_type": "code",
   "execution_count": 96,
   "id": "ab65e138",
   "metadata": {},
   "outputs": [
    {
     "name": "stdout",
     "output_type": "stream",
     "text": [
      "200\n"
     ]
    }
   ],
   "source": [
    "print(a)"
   ]
  },
  {
   "cell_type": "code",
   "execution_count": null,
   "id": "c899ddb6",
   "metadata": {},
   "outputs": [],
   "source": []
  }
 ],
 "metadata": {
  "kernelspec": {
   "display_name": "Python 3 (ipykernel)",
   "language": "python",
   "name": "python3"
  },
  "language_info": {
   "codemirror_mode": {
    "name": "ipython",
    "version": 3
   },
   "file_extension": ".py",
   "mimetype": "text/x-python",
   "name": "python",
   "nbconvert_exporter": "python",
   "pygments_lexer": "ipython3",
   "version": "3.11.5"
  }
 },
 "nbformat": 4,
 "nbformat_minor": 5
}
