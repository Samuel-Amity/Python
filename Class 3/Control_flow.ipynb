{
 "cells": [
  {
   "cell_type": "code",
   "execution_count": 2,
   "metadata": {},
   "outputs": [],
   "source": [
    "# Controll Flow :\n",
    "# 1. Condotional Statements\n",
    "# 2. \n",
    "# 3."
   ]
  },
  {
   "cell_type": "code",
   "execution_count": 3,
   "metadata": {},
   "outputs": [],
   "source": [
    "# 1. cond staements\n",
    "# a. "
   ]
  },
  {
   "cell_type": "code",
   "execution_count": 5,
   "metadata": {},
   "outputs": [
    {
     "name": "stdout",
     "output_type": "stream",
     "text": [
      "You are a kid\n"
     ]
    }
   ],
   "source": [
    "age = 18\n",
    "\n",
    "if age>=18:\n",
    "    print(\"You are eligible to vote\")\n",
    "else:\n",
    "    print(\"You are a kid\")"
   ]
  },
  {
   "cell_type": "code",
   "execution_count": null,
   "metadata": {},
   "outputs": [],
   "source": [
    "# Indentaton error\n",
    "\n",
    "# age = 18\n",
    "\n",
    "# if age>=18:\n",
    "# print(\"You are eligible to vote\")\n",
    "# else:\n",
    "#     print(\"You are a kid\")"
   ]
  },
  {
   "cell_type": "code",
   "execution_count": 7,
   "metadata": {},
   "outputs": [],
   "source": [
    "age = int(input(\"enter your age\"))"
   ]
  },
  {
   "cell_type": "code",
   "execution_count": 8,
   "metadata": {},
   "outputs": [
    {
     "name": "stdout",
     "output_type": "stream",
     "text": [
      "You are eligible to vote\n",
      "Voting is your right\n"
     ]
    }
   ],
   "source": [
    "\n",
    "if age>=18:\n",
    "    print(\"You are eligible to vote\")\n",
    "    print(\"Voting is your right\")\n",
    "else:\n",
    "    print(\"You are a kid\")\n",
    "    print(\"Growup First\")"
   ]
  },
  {
   "cell_type": "code",
   "execution_count": 9,
   "metadata": {},
   "outputs": [],
   "source": [
    "# Blocking"
   ]
  },
  {
   "cell_type": "code",
   "execution_count": 36,
   "metadata": {},
   "outputs": [
    {
     "name": "stdout",
     "output_type": "stream",
     "text": [
      "Negative\n"
     ]
    }
   ],
   "source": [
    "number = int( input(\"Enter a number\"))\n",
    "\n",
    "if number == 0:\n",
    "    print(\"Positive\")\n",
    "elif number==0:\n",
    "    print(\"zero\")\n",
    "else: \n",
    "    print(\"Negative\")"
   ]
  },
  {
   "cell_type": "code",
   "execution_count": 19,
   "metadata": {},
   "outputs": [
    {
     "name": "stdout",
     "output_type": "stream",
     "text": [
      "non\n"
     ]
    }
   ],
   "source": [
    "spend = int(input(\"SHopping amt\"))\n",
    "\n",
    "if spend>10000:\n",
    "    print(\"You are eligible for a discount of 10 % \")\n",
    "elif 7000<spend<=10000:\n",
    "    print(\"you are eligible for a discount of 5%\")\n",
    "elif 5000<spend<=7000:\n",
    "    print('you are eliglbe for vouchers')\n",
    "elif 1000<spend<=5000:\n",
    "    print(\"You are VIP customer\")\n",
    "elif 100<spend<=1000:\n",
    "    print(\"you are movie tickets\")\n",
    "else:\n",
    "    print(\"Not eligible for discount\")"
   ]
  },
  {
   "cell_type": "code",
   "execution_count": 23,
   "metadata": {},
   "outputs": [
    {
     "name": "stdout",
     "output_type": "stream",
     "text": [
      "10%\n"
     ]
    }
   ],
   "source": [
    "spend= float(input(\"amt\"))\n",
    "\n",
    "if spend == 1000:\n",
    "    print(\"10%\")\n",
    "if spend == 2000:\n",
    "    print(\"5%\")\n",
    "if spend == 3000:\n",
    "    print(\"Vouc\")"
   ]
  },
  {
   "cell_type": "code",
   "execution_count": null,
   "metadata": {},
   "outputs": [],
   "source": [
    "# Nesting"
   ]
  },
  {
   "cell_type": "code",
   "execution_count": 32,
   "metadata": {},
   "outputs": [
    {
     "name": "stdout",
     "output_type": "stream",
     "text": [
      "its zero\n"
     ]
    }
   ],
   "source": [
    "number = int(input(\"marks\"))\n",
    "\n",
    "if number>=0:\n",
    "    if number == 0 :\n",
    "        print(\"its zero\")\n",
    "    if number == 5 :\n",
    "        print(\"its 5\")\n",
    "    if number == 10 :\n",
    "        print(\"its 10\")\n",
    "    \n",
    "else:\n",
    "    print(\"negative\")"
   ]
  },
  {
   "cell_type": "code",
   "execution_count": null,
   "metadata": {},
   "outputs": [],
   "source": []
  },
  {
   "cell_type": "code",
   "execution_count": 35,
   "metadata": {},
   "outputs": [
    {
     "name": "stdout",
     "output_type": "stream",
     "text": [
      "its 5\n",
      "odd\n"
     ]
    }
   ],
   "source": [
    "number = int(input(\"marks\"))\n",
    "\n",
    "\n",
    "if number>=0:\n",
    "    if number == 0 :\n",
    "        print(\"its zero\")\n",
    "    if number == 5 :\n",
    "        print(\"its 5\")\n",
    "    if number == 10 :\n",
    "        print(\"its 10\")\n",
    "    if number == 15 :\n",
    "        print(\"its 15\")\n",
    "    if number %2 == 0:\n",
    "        print(\"even\")\n",
    "    else: \n",
    "        print(\"odd\")\n",
    "    \n",
    "else:\n",
    "    print(\"neg\")"
   ]
  },
  {
   "cell_type": "code",
   "execution_count": null,
   "metadata": {},
   "outputs": [],
   "source": []
  },
  {
   "cell_type": "code",
   "execution_count": null,
   "metadata": {},
   "outputs": [],
   "source": [
    "# whenever you ar using nested if do not use else , only use with last if"
   ]
  },
  {
   "cell_type": "code",
   "execution_count": null,
   "metadata": {},
   "outputs": [],
   "source": [
    "# take input 3 - largest find kijiye"
   ]
  },
  {
   "cell_type": "code",
   "execution_count": 2,
   "metadata": {},
   "outputs": [
    {
     "name": "stdout",
     "output_type": "stream",
     "text": [
      "3 is larger\n"
     ]
    }
   ],
   "source": [
    "number1 = int(input(\"number1\"))\n",
    "number2 = int(input(\"number2\"))\n",
    "number3 = int(input(\"number3\"))\n",
    "\n",
    "if number1>number2>number3 :\n",
    "    print(f\"{number1} is larger\")\n",
    "elif number2>number3>number1:\n",
    "    print(f\"{number2} is larger\")\n",
    "else: \n",
    "    print(f\"{number3} is larger\")                                                                                                                                                                                                                                                                                                                                                                                                                                                                                                                                                                                                                                                                                                                                                                                                                                                                                                                                                                                                                                                                                                                              "
   ]
  },
  {
   "cell_type": "code",
   "execution_count": 43,
   "metadata": {},
   "outputs": [
    {
     "name": "stdout",
     "output_type": "stream",
     "text": [
      "odd\n"
     ]
    }
   ],
   "source": [
    "# odd even\n",
    "\n",
    "number = int(input(\"enter any number\"))\n",
    "\n",
    "if number%2==0:\n",
    "    print(\"even\")\n",
    "else : print(\"odd\")"
   ]
  },
  {
   "cell_type": "code",
   "execution_count": null,
   "metadata": {},
   "outputs": [],
   "source": []
  }
 ],
 "metadata": {
  "kernelspec": {
   "display_name": "base",
   "language": "python",
   "name": "python3"
  },
  "language_info": {
   "codemirror_mode": {
    "name": "ipython",
    "version": 3
   },
   "file_extension": ".py",
   "mimetype": "text/x-python",
   "name": "python",
   "nbconvert_exporter": "python",
   "pygments_lexer": "ipython3",
   "version": "3.11.5"
  }
 },
 "nbformat": 4,
 "nbformat_minor": 2
}
