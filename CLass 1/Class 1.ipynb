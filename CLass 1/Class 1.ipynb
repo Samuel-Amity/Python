{
 "cells": [
  {
   "cell_type": "code",
   "execution_count": 1,
   "id": "cf8bdf7b",
   "metadata": {},
   "outputs": [
    {
     "name": "stdout",
     "output_type": "stream",
     "text": [
      "100\n"
     ]
    }
   ],
   "source": [
    "print(100)"
   ]
  },
  {
   "cell_type": "code",
   "execution_count": 2,
   "id": "30099df6",
   "metadata": {},
   "outputs": [],
   "source": [
    "# Comment"
   ]
  },
  {
   "cell_type": "code",
   "execution_count": 4,
   "id": "bdca7c3f",
   "metadata": {},
   "outputs": [],
   "source": [
    "# variable : a variable is a placeholder for any data "
   ]
  },
  {
   "cell_type": "code",
   "execution_count": null,
   "id": "3b77c3e3",
   "metadata": {},
   "outputs": [],
   "source": [
    "# Rules 1. a variable cant start with a digit 2. "
   ]
  },
  {
   "cell_type": "code",
   "execution_count": 5,
   "id": "e10d3bed",
   "metadata": {},
   "outputs": [],
   "source": [
    "# Datatype 1. string 2. FLoat 3. Integer 4. Complex 5. None 6. Boolean"
   ]
  },
  {
   "cell_type": "code",
   "execution_count": 19,
   "id": "ddb338c1",
   "metadata": {},
   "outputs": [],
   "source": [
    "# commands\n",
    "#1. type() \n",
    "#2. print()\n",
    "#3. input()"
   ]
  },
  {
   "cell_type": "code",
   "execution_count": 15,
   "id": "de083bb2",
   "metadata": {},
   "outputs": [
    {
     "name": "stdout",
     "output_type": "stream",
     "text": [
      "100\n",
      "100 3.5 item True\n"
     ]
    }
   ],
   "source": [
    "print(100)\n",
    "print(100, 3.5, \"item\", True )"
   ]
  },
  {
   "cell_type": "code",
   "execution_count": 17,
   "id": "f2ea2a54",
   "metadata": {},
   "outputs": [],
   "source": [
    "x = 10, 23,2.9,\"python\",True"
   ]
  },
  {
   "cell_type": "code",
   "execution_count": 20,
   "id": "3ee1a859",
   "metadata": {},
   "outputs": [
    {
     "data": {
      "text/plain": [
       "tuple"
      ]
     },
     "execution_count": 20,
     "metadata": {},
     "output_type": "execute_result"
    }
   ],
   "source": [
    "type(x)"
   ]
  },
  {
   "cell_type": "code",
   "execution_count": 21,
   "id": "e341fc78",
   "metadata": {},
   "outputs": [],
   "source": [
    "# Formatting "
   ]
  },
  {
   "cell_type": "code",
   "execution_count": 1,
   "id": "bb09e00d",
   "metadata": {},
   "outputs": [
    {
     "name": "stdout",
     "output_type": "stream",
     "text": [
      "my 1 is 2 and 3\n"
     ]
    }
   ],
   "source": [
    "a=1 \n",
    "b=2 \n",
    "c=3\n",
    "print(\"my {} is {} and {}\" .format(a,b,c)) # .format(h=c, g=b,j=a)"
   ]
  },
  {
   "cell_type": "code",
   "execution_count": 36,
   "id": "6fd38757",
   "metadata": {},
   "outputs": [
    {
     "name": "stdout",
     "output_type": "stream",
     "text": [
      " lets count {1} and {2} then {3}\n"
     ]
    }
   ],
   "source": [
    "print(\" lets count\", {a}, \"and\", {b}, \"then\", {c})"
   ]
  },
  {
   "cell_type": "code",
   "execution_count": 4,
   "id": "4662a43c",
   "metadata": {},
   "outputs": [
    {
     "name": "stdout",
     "output_type": "stream",
     "text": [
      "HI 1 and 2\n"
     ]
    }
   ],
   "source": [
    "print(f\"HI {a} and {b}\")"
   ]
  },
  {
   "cell_type": "code",
   "execution_count": null,
   "id": "ee0554d0",
   "metadata": {},
   "outputs": [],
   "source": []
  }
 ],
 "metadata": {
  "kernelspec": {
   "display_name": "Python 3 (ipykernel)",
   "language": "python",
   "name": "python3"
  },
  "language_info": {
   "codemirror_mode": {
    "name": "ipython",
    "version": 3
   },
   "file_extension": ".py",
   "mimetype": "text/x-python",
   "name": "python",
   "nbconvert_exporter": "python",
   "pygments_lexer": "ipython3",
   "version": "3.11.5"
  }
 },
 "nbformat": 4,
 "nbformat_minor": 5
}
