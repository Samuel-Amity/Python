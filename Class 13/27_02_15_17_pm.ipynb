{
 "cells": [
  {
   "cell_type": "code",
   "execution_count": 1,
   "id": "5daff667",
   "metadata": {},
   "outputs": [],
   "source": [
    "my_str = \"abbcccddddeeeeefffffffgggggggghhhhhhhhhh\""
   ]
  },
  {
   "cell_type": "code",
   "execution_count": 2,
   "id": "3dfb4756",
   "metadata": {},
   "outputs": [],
   "source": [
    "#method 1"
   ]
  },
  {
   "cell_type": "code",
   "execution_count": 4,
   "id": "a64f15a1",
   "metadata": {},
   "outputs": [],
   "source": [
    "b = {}\n",
    "for i in my_str:\n",
    "    if i not in b:\n",
    "        b[i]=1\n",
    "    else:\n",
    "        b[i]+=1"
   ]
  },
  {
   "cell_type": "code",
   "execution_count": 5,
   "id": "3ea7ca8d",
   "metadata": {},
   "outputs": [
    {
     "data": {
      "text/plain": [
       "{'a': 1, 'b': 2, 'c': 3, 'd': 4, 'e': 5, 'f': 7, 'g': 8, 'h': 10}"
      ]
     },
     "execution_count": 5,
     "metadata": {},
     "output_type": "execute_result"
    }
   ],
   "source": [
    "b"
   ]
  },
  {
   "cell_type": "code",
   "execution_count": 6,
   "id": "eb4cd33e",
   "metadata": {},
   "outputs": [
    {
     "data": {
      "text/plain": [
       "{'a': 1, 'b': 2, 'c': 3, 'd': 4, 'e': 5, 'f': 7, 'g': 8, 'h': 10}"
      ]
     },
     "execution_count": 6,
     "metadata": {},
     "output_type": "execute_result"
    }
   ],
   "source": [
    "{i:my_str.count(i) for i in my_str}"
   ]
  },
  {
   "cell_type": "code",
   "execution_count": null,
   "id": "4c2ef727",
   "metadata": {},
   "outputs": [],
   "source": []
  },
  {
   "cell_type": "code",
   "execution_count": 7,
   "id": "d13bf1b4",
   "metadata": {},
   "outputs": [],
   "source": [
    "# perimeter of circle "
   ]
  },
  {
   "cell_type": "code",
   "execution_count": 8,
   "id": "3c88b45c",
   "metadata": {},
   "outputs": [],
   "source": [
    "def perimeter(r):\n",
    "    \"\"\"This will calculate permimeter of circle\"\"\"\n",
    "    \n",
    "    return 2*3.14*r"
   ]
  },
  {
   "cell_type": "code",
   "execution_count": 9,
   "id": "dfa93e1b",
   "metadata": {},
   "outputs": [
    {
     "data": {
      "text/plain": [
       "31.400000000000002"
      ]
     },
     "execution_count": 9,
     "metadata": {},
     "output_type": "execute_result"
    }
   ],
   "source": [
    "perimeter(5)"
   ]
  },
  {
   "cell_type": "code",
   "execution_count": null,
   "id": "304e16a1",
   "metadata": {},
   "outputs": [],
   "source": []
  },
  {
   "cell_type": "code",
   "execution_count": 12,
   "id": "7ee23c2f",
   "metadata": {},
   "outputs": [],
   "source": [
    "# lambda functions : these are unknown functions \n",
    "#1. they do not have any name\n",
    "# for quicker functionality\n",
    "# one thime use"
   ]
  },
  {
   "cell_type": "code",
   "execution_count": 14,
   "id": "839e5673",
   "metadata": {},
   "outputs": [
    {
     "data": {
      "text/plain": [
       "11"
      ]
     },
     "execution_count": 14,
     "metadata": {},
     "output_type": "execute_result"
    }
   ],
   "source": [
    "(lambda a,b : a+b)(5,6)"
   ]
  },
  {
   "cell_type": "code",
   "execution_count": 15,
   "id": "6ae31fbf",
   "metadata": {},
   "outputs": [],
   "source": [
    "def add(a,b):\n",
    "    return a+b"
   ]
  },
  {
   "cell_type": "code",
   "execution_count": 16,
   "id": "2bb0fab6",
   "metadata": {},
   "outputs": [
    {
     "data": {
      "text/plain": [
       "9"
      ]
     },
     "execution_count": 16,
     "metadata": {},
     "output_type": "execute_result"
    }
   ],
   "source": [
    "add(4,5)"
   ]
  },
  {
   "cell_type": "code",
   "execution_count": 17,
   "id": "adc6b2d7",
   "metadata": {},
   "outputs": [
    {
     "data": {
      "text/plain": [
       "12"
      ]
     },
     "execution_count": 17,
     "metadata": {},
     "output_type": "execute_result"
    }
   ],
   "source": [
    "add(9,3)"
   ]
  },
  {
   "cell_type": "code",
   "execution_count": 18,
   "id": "b64b4037",
   "metadata": {},
   "outputs": [
    {
     "data": {
      "text/plain": [
       "13"
      ]
     },
     "execution_count": 18,
     "metadata": {},
     "output_type": "execute_result"
    }
   ],
   "source": [
    "add(10,3)"
   ]
  },
  {
   "cell_type": "code",
   "execution_count": 20,
   "id": "0237462d",
   "metadata": {},
   "outputs": [],
   "source": [
    "multiply = lambda x,y : x*y"
   ]
  },
  {
   "cell_type": "code",
   "execution_count": 21,
   "id": "ffc3918d",
   "metadata": {},
   "outputs": [
    {
     "data": {
      "text/plain": [
       "20"
      ]
     },
     "execution_count": 21,
     "metadata": {},
     "output_type": "execute_result"
    }
   ],
   "source": [
    "multiply(4,5)"
   ]
  },
  {
   "cell_type": "code",
   "execution_count": 23,
   "id": "e45682a2",
   "metadata": {},
   "outputs": [
    {
     "data": {
      "text/plain": [
       "6"
      ]
     },
     "execution_count": 23,
     "metadata": {},
     "output_type": "execute_result"
    }
   ],
   "source": [
    "multiply(2,3)"
   ]
  },
  {
   "cell_type": "code",
   "execution_count": 24,
   "id": "d8d23906",
   "metadata": {},
   "outputs": [],
   "source": [
    "def multiply1(p,r):\n",
    "    return p*r"
   ]
  },
  {
   "cell_type": "code",
   "execution_count": 25,
   "id": "970d03f5",
   "metadata": {},
   "outputs": [
    {
     "data": {
      "text/plain": [
       "24"
      ]
     },
     "execution_count": 25,
     "metadata": {},
     "output_type": "execute_result"
    }
   ],
   "source": [
    "multiply1(4,6)"
   ]
  },
  {
   "cell_type": "code",
   "execution_count": 27,
   "id": "5d3752c8",
   "metadata": {},
   "outputs": [
    {
     "data": {
      "text/plain": [
       "9"
      ]
     },
     "execution_count": 27,
     "metadata": {},
     "output_type": "execute_result"
    }
   ],
   "source": [
    "(lambda x,y : x*y)(9,1)"
   ]
  },
  {
   "cell_type": "code",
   "execution_count": 34,
   "id": "5689381d",
   "metadata": {},
   "outputs": [],
   "source": [
    "k = [('navneet', 3), ('zoom', 4), ('abhi', 2), ('kamal',1), ('rohit',5), ('pooja',6)]"
   ]
  },
  {
   "cell_type": "code",
   "execution_count": 32,
   "id": "80b0e2c0",
   "metadata": {},
   "outputs": [],
   "source": [
    "k.sort(reverse=True)"
   ]
  },
  {
   "cell_type": "code",
   "execution_count": 33,
   "id": "5b9e2fb6",
   "metadata": {},
   "outputs": [
    {
     "data": {
      "text/plain": [
       "[('zoom', 4),\n",
       " ('rohit', 5),\n",
       " ('pooja', 6),\n",
       " ('navneet', 3),\n",
       " ('kamal', 1),\n",
       " ('abhi', 2)]"
      ]
     },
     "execution_count": 33,
     "metadata": {},
     "output_type": "execute_result"
    }
   ],
   "source": [
    "k"
   ]
  },
  {
   "cell_type": "code",
   "execution_count": 37,
   "id": "02135f92",
   "metadata": {},
   "outputs": [],
   "source": [
    "k.sort(key=lambda x:x[1])"
   ]
  },
  {
   "cell_type": "code",
   "execution_count": 38,
   "id": "b8841ee5",
   "metadata": {},
   "outputs": [
    {
     "data": {
      "text/plain": [
       "[('kamal', 1),\n",
       " ('abhi', 2),\n",
       " ('navneet', 3),\n",
       " ('zoom', 4),\n",
       " ('rohit', 5),\n",
       " ('pooja', 6)]"
      ]
     },
     "execution_count": 38,
     "metadata": {},
     "output_type": "execute_result"
    }
   ],
   "source": [
    "k"
   ]
  },
  {
   "cell_type": "code",
   "execution_count": null,
   "id": "a2bb16a3",
   "metadata": {},
   "outputs": [],
   "source": []
  },
  {
   "cell_type": "code",
   "execution_count": 39,
   "id": "330b8922",
   "metadata": {},
   "outputs": [],
   "source": [
    "# builtin functions"
   ]
  },
  {
   "cell_type": "code",
   "execution_count": 40,
   "id": "456930aa",
   "metadata": {},
   "outputs": [
    {
     "name": "stdout",
     "output_type": "stream",
     "text": [
      "100\n"
     ]
    }
   ],
   "source": [
    "print(100)"
   ]
  },
  {
   "cell_type": "code",
   "execution_count": 41,
   "id": "24029c2c",
   "metadata": {},
   "outputs": [
    {
     "name": "stdout",
     "output_type": "stream",
     "text": [
      "200\n"
     ]
    }
   ],
   "source": [
    "print(200)"
   ]
  },
  {
   "cell_type": "code",
   "execution_count": 42,
   "id": "e93695f0",
   "metadata": {},
   "outputs": [
    {
     "name": "stdout",
     "output_type": "stream",
     "text": [
      "300\n"
     ]
    }
   ],
   "source": [
    "print(300)"
   ]
  },
  {
   "cell_type": "code",
   "execution_count": 43,
   "id": "1770b5aa",
   "metadata": {},
   "outputs": [
    {
     "data": {
      "text/plain": [
       "5"
      ]
     },
     "execution_count": 43,
     "metadata": {},
     "output_type": "execute_result"
    }
   ],
   "source": [
    "len('hello')"
   ]
  },
  {
   "cell_type": "code",
   "execution_count": 44,
   "id": "a3bbc6c0",
   "metadata": {},
   "outputs": [
    {
     "data": {
      "text/plain": [
       "range(1, 10)"
      ]
     },
     "execution_count": 44,
     "metadata": {},
     "output_type": "execute_result"
    }
   ],
   "source": [
    "range(1,10)"
   ]
  },
  {
   "cell_type": "code",
   "execution_count": 45,
   "id": "2c0a0a7f",
   "metadata": {},
   "outputs": [],
   "source": [
    "a = [10,4,5,6,7,8]"
   ]
  },
  {
   "cell_type": "code",
   "execution_count": 46,
   "id": "f8357bc6",
   "metadata": {},
   "outputs": [
    {
     "data": {
      "text/plain": [
       "40"
      ]
     },
     "execution_count": 46,
     "metadata": {},
     "output_type": "execute_result"
    }
   ],
   "source": [
    "sum(a)"
   ]
  },
  {
   "cell_type": "code",
   "execution_count": 47,
   "id": "397b727d",
   "metadata": {},
   "outputs": [
    {
     "data": {
      "text/plain": [
       "4"
      ]
     },
     "execution_count": 47,
     "metadata": {},
     "output_type": "execute_result"
    }
   ],
   "source": [
    "min(a)"
   ]
  },
  {
   "cell_type": "code",
   "execution_count": 49,
   "id": "c44c791d",
   "metadata": {},
   "outputs": [
    {
     "data": {
      "text/plain": [
       "10"
      ]
     },
     "execution_count": 49,
     "metadata": {},
     "output_type": "execute_result"
    }
   ],
   "source": [
    "max(a)"
   ]
  },
  {
   "cell_type": "code",
   "execution_count": 51,
   "id": "1375d80f",
   "metadata": {},
   "outputs": [],
   "source": [
    "average = sum(a)/len(a)"
   ]
  },
  {
   "cell_type": "code",
   "execution_count": 52,
   "id": "bedb5fa0",
   "metadata": {},
   "outputs": [
    {
     "data": {
      "text/plain": [
       "2"
      ]
     },
     "execution_count": 52,
     "metadata": {},
     "output_type": "execute_result"
    }
   ],
   "source": [
    "round(2.364974)"
   ]
  },
  {
   "cell_type": "code",
   "execution_count": 55,
   "id": "cd776176",
   "metadata": {},
   "outputs": [
    {
     "data": {
      "text/plain": [
       "13.14"
      ]
     },
     "execution_count": 55,
     "metadata": {},
     "output_type": "execute_result"
    }
   ],
   "source": [
    "round(13.136497235,2)"
   ]
  },
  {
   "cell_type": "code",
   "execution_count": 56,
   "id": "7f74e2a6",
   "metadata": {},
   "outputs": [
    {
     "data": {
      "text/plain": [
       "10"
      ]
     },
     "execution_count": 56,
     "metadata": {},
     "output_type": "execute_result"
    }
   ],
   "source": [
    "abs(10)"
   ]
  },
  {
   "cell_type": "code",
   "execution_count": 57,
   "id": "b9d464a5",
   "metadata": {},
   "outputs": [
    {
     "data": {
      "text/plain": [
       "15"
      ]
     },
     "execution_count": 57,
     "metadata": {},
     "output_type": "execute_result"
    }
   ],
   "source": [
    "abs(-15)"
   ]
  },
  {
   "cell_type": "code",
   "execution_count": 58,
   "id": "947644c4",
   "metadata": {},
   "outputs": [],
   "source": [
    "lang = ['html', 'css', 'sql', 'python', 'java']"
   ]
  },
  {
   "cell_type": "code",
   "execution_count": 66,
   "id": "2edb9c5e",
   "metadata": {},
   "outputs": [
    {
     "name": "stdout",
     "output_type": "stream",
     "text": [
      "10 : html\n",
      "11 : css\n",
      "12 : sql\n",
      "13 : python\n",
      "14 : java\n"
     ]
    }
   ],
   "source": [
    "for idx,i in enumerate(lang, start=10 ):\n",
    "    print(idx, \":\" ,i)"
   ]
  },
  {
   "cell_type": "code",
   "execution_count": 60,
   "id": "c17203f9",
   "metadata": {},
   "outputs": [],
   "source": [
    "# enumerate: it adds a counter"
   ]
  },
  {
   "cell_type": "code",
   "execution_count": null,
   "id": "4df7789d",
   "metadata": {},
   "outputs": [],
   "source": []
  },
  {
   "cell_type": "code",
   "execution_count": 68,
   "id": "cdcc240b",
   "metadata": {},
   "outputs": [],
   "source": [
    "# zip: it combines two iterables or compress"
   ]
  },
  {
   "cell_type": "code",
   "execution_count": 69,
   "id": "83b4f497",
   "metadata": {},
   "outputs": [],
   "source": [
    "lang = ['html', 'css', 'sql', 'python', 'java']"
   ]
  },
  {
   "cell_type": "code",
   "execution_count": 70,
   "id": "7cc3601d",
   "metadata": {},
   "outputs": [],
   "source": [
    "test = [90,95,85,99,10]"
   ]
  },
  {
   "cell_type": "code",
   "execution_count": 72,
   "id": "af925a5f",
   "metadata": {},
   "outputs": [
    {
     "data": {
      "text/plain": [
       "[('html', 90), ('css', 95), ('sql', 85), ('python', 99), ('java', 10)]"
      ]
     },
     "execution_count": 72,
     "metadata": {},
     "output_type": "execute_result"
    }
   ],
   "source": [
    "list(zip(lang, test))"
   ]
  },
  {
   "cell_type": "code",
   "execution_count": null,
   "id": "1c956b20",
   "metadata": {},
   "outputs": [],
   "source": []
  },
  {
   "cell_type": "code",
   "execution_count": 73,
   "id": "32a1b989",
   "metadata": {},
   "outputs": [],
   "source": [
    "test = [90,95,85,99]"
   ]
  },
  {
   "cell_type": "code",
   "execution_count": 74,
   "id": "6d81224b",
   "metadata": {},
   "outputs": [],
   "source": [
    "lang = ['html', 'css', 'sql', 'python', 'java']"
   ]
  },
  {
   "cell_type": "code",
   "execution_count": 76,
   "id": "2592b580",
   "metadata": {},
   "outputs": [
    {
     "data": {
      "text/plain": [
       "[('html', 90), ('css', 95), ('sql', 85), ('python', 99)]"
      ]
     },
     "execution_count": 76,
     "metadata": {},
     "output_type": "execute_result"
    }
   ],
   "source": [
    "list(zip(lang, test))"
   ]
  },
  {
   "cell_type": "code",
   "execution_count": null,
   "id": "f403b434",
   "metadata": {},
   "outputs": [],
   "source": []
  },
  {
   "cell_type": "code",
   "execution_count": 77,
   "id": "2937659a",
   "metadata": {},
   "outputs": [],
   "source": [
    "# map, reduce and filter"
   ]
  },
  {
   "cell_type": "code",
   "execution_count": 78,
   "id": "a559898d",
   "metadata": {},
   "outputs": [],
   "source": [
    "lst =  [4,5,6,1,2,3,7,8]"
   ]
  },
  {
   "cell_type": "code",
   "execution_count": 79,
   "id": "d7366af1",
   "metadata": {},
   "outputs": [
    {
     "ename": "TypeError",
     "evalue": "can only concatenate list (not \"int\") to list",
     "output_type": "error",
     "traceback": [
      "\u001b[1;31m---------------------------------------------------------------------------\u001b[0m",
      "\u001b[1;31mTypeError\u001b[0m                                 Traceback (most recent call last)",
      "Cell \u001b[1;32mIn[79], line 1\u001b[0m\n\u001b[1;32m----> 1\u001b[0m lst \u001b[38;5;241m+\u001b[39m \u001b[38;5;241m1\u001b[39m\n",
      "\u001b[1;31mTypeError\u001b[0m: can only concatenate list (not \"int\") to list"
     ]
    }
   ],
   "source": [
    "lst + 1"
   ]
  },
  {
   "cell_type": "code",
   "execution_count": 80,
   "id": "8a41e1b1",
   "metadata": {},
   "outputs": [],
   "source": [
    "p = []\n",
    "for i in lst:\n",
    "    p.append(i+1)"
   ]
  },
  {
   "cell_type": "code",
   "execution_count": 81,
   "id": "62ad4faf",
   "metadata": {},
   "outputs": [
    {
     "data": {
      "text/plain": [
       "[5, 6, 7, 2, 3, 4, 8, 9]"
      ]
     },
     "execution_count": 81,
     "metadata": {},
     "output_type": "execute_result"
    }
   ],
   "source": [
    "p"
   ]
  },
  {
   "cell_type": "code",
   "execution_count": null,
   "id": "48578c3c",
   "metadata": {},
   "outputs": [],
   "source": []
  },
  {
   "cell_type": "code",
   "execution_count": 82,
   "id": "e0020271",
   "metadata": {},
   "outputs": [],
   "source": [
    "def add_one(r):\n",
    "    return r+1"
   ]
  },
  {
   "cell_type": "code",
   "execution_count": 83,
   "id": "532978fd",
   "metadata": {},
   "outputs": [
    {
     "data": {
      "text/plain": [
       "11"
      ]
     },
     "execution_count": 83,
     "metadata": {},
     "output_type": "execute_result"
    }
   ],
   "source": [
    "add_one(10)"
   ]
  },
  {
   "cell_type": "code",
   "execution_count": 84,
   "id": "6696c751",
   "metadata": {},
   "outputs": [
    {
     "data": {
      "text/plain": [
       "13"
      ]
     },
     "execution_count": 84,
     "metadata": {},
     "output_type": "execute_result"
    }
   ],
   "source": [
    "add_one(12)"
   ]
  },
  {
   "cell_type": "code",
   "execution_count": 85,
   "id": "6943b303",
   "metadata": {},
   "outputs": [
    {
     "data": {
      "text/plain": [
       "[4, 5, 6, 1, 2, 3, 7, 8]"
      ]
     },
     "execution_count": 85,
     "metadata": {},
     "output_type": "execute_result"
    }
   ],
   "source": [
    "lst"
   ]
  },
  {
   "cell_type": "code",
   "execution_count": 87,
   "id": "8bd57c8c",
   "metadata": {},
   "outputs": [
    {
     "data": {
      "text/plain": [
       "[5, 6, 7, 2, 3, 4, 8, 9]"
      ]
     },
     "execution_count": 87,
     "metadata": {},
     "output_type": "execute_result"
    }
   ],
   "source": [
    "list(map(add_one, lst))"
   ]
  },
  {
   "cell_type": "code",
   "execution_count": null,
   "id": "2709de63",
   "metadata": {},
   "outputs": [],
   "source": []
  },
  {
   "cell_type": "code",
   "execution_count": 89,
   "id": "e6b3e8fd",
   "metadata": {},
   "outputs": [
    {
     "data": {
      "text/plain": [
       "[5, 6, 7, 2, 3, 4, 8, 9]"
      ]
     },
     "execution_count": 89,
     "metadata": {},
     "output_type": "execute_result"
    }
   ],
   "source": [
    "list(map(lambda d :d+1, lst))"
   ]
  },
  {
   "cell_type": "code",
   "execution_count": null,
   "id": "1a6bedd3",
   "metadata": {},
   "outputs": [],
   "source": []
  },
  {
   "cell_type": "code",
   "execution_count": 90,
   "id": "62cc718d",
   "metadata": {},
   "outputs": [],
   "source": [
    "# filter"
   ]
  },
  {
   "cell_type": "code",
   "execution_count": 91,
   "id": "941e1500",
   "metadata": {},
   "outputs": [
    {
     "data": {
      "text/plain": [
       "[4, 5, 6, 1, 2, 3, 7, 8]"
      ]
     },
     "execution_count": 91,
     "metadata": {},
     "output_type": "execute_result"
    }
   ],
   "source": [
    "lst"
   ]
  },
  {
   "cell_type": "code",
   "execution_count": 93,
   "id": "e114ca1f",
   "metadata": {},
   "outputs": [],
   "source": [
    "k = []\n",
    "for i in lst:\n",
    "    if i%2==0:\n",
    "        k.append(i)"
   ]
  },
  {
   "cell_type": "code",
   "execution_count": 94,
   "id": "1900906f",
   "metadata": {},
   "outputs": [
    {
     "data": {
      "text/plain": [
       "[4, 6, 2, 8]"
      ]
     },
     "execution_count": 94,
     "metadata": {},
     "output_type": "execute_result"
    }
   ],
   "source": [
    "k"
   ]
  },
  {
   "cell_type": "code",
   "execution_count": null,
   "id": "ba1b124f",
   "metadata": {},
   "outputs": [],
   "source": []
  },
  {
   "cell_type": "code",
   "execution_count": 95,
   "id": "97ffc7ac",
   "metadata": {},
   "outputs": [],
   "source": [
    "def even_check(s):\n",
    "    return s%2==0"
   ]
  },
  {
   "cell_type": "code",
   "execution_count": 96,
   "id": "a8c41338",
   "metadata": {},
   "outputs": [
    {
     "data": {
      "text/plain": [
       "True"
      ]
     },
     "execution_count": 96,
     "metadata": {},
     "output_type": "execute_result"
    }
   ],
   "source": [
    "even_check(10)"
   ]
  },
  {
   "cell_type": "code",
   "execution_count": 97,
   "id": "baa7ef32",
   "metadata": {},
   "outputs": [
    {
     "data": {
      "text/plain": [
       "False"
      ]
     },
     "execution_count": 97,
     "metadata": {},
     "output_type": "execute_result"
    }
   ],
   "source": [
    "even_check(11)"
   ]
  },
  {
   "cell_type": "code",
   "execution_count": 98,
   "id": "8e7caa4d",
   "metadata": {},
   "outputs": [
    {
     "data": {
      "text/plain": [
       "[4, 5, 6, 1, 2, 3, 7, 8]"
      ]
     },
     "execution_count": 98,
     "metadata": {},
     "output_type": "execute_result"
    }
   ],
   "source": [
    "lst"
   ]
  },
  {
   "cell_type": "code",
   "execution_count": 100,
   "id": "92b3693b",
   "metadata": {},
   "outputs": [
    {
     "data": {
      "text/plain": [
       "[4, 6, 2, 8]"
      ]
     },
     "execution_count": 100,
     "metadata": {},
     "output_type": "execute_result"
    }
   ],
   "source": [
    "list(filter(even_check, lst))"
   ]
  },
  {
   "cell_type": "code",
   "execution_count": null,
   "id": "f4da38d3",
   "metadata": {},
   "outputs": [],
   "source": []
  },
  {
   "cell_type": "code",
   "execution_count": 103,
   "id": "24054d32",
   "metadata": {},
   "outputs": [
    {
     "data": {
      "text/plain": [
       "[4, 6, 2, 8]"
      ]
     },
     "execution_count": 103,
     "metadata": {},
     "output_type": "execute_result"
    }
   ],
   "source": [
    "list(filter(lambda j:j%2==0, lst))"
   ]
  },
  {
   "cell_type": "code",
   "execution_count": null,
   "id": "237b6297",
   "metadata": {},
   "outputs": [],
   "source": []
  },
  {
   "cell_type": "code",
   "execution_count": 112,
   "id": "314a37b6",
   "metadata": {},
   "outputs": [],
   "source": [
    "lst =  [4,5,6,1,2,3,7,8]"
   ]
  },
  {
   "cell_type": "code",
   "execution_count": 115,
   "id": "dc972b5c",
   "metadata": {},
   "outputs": [],
   "source": [
    "def product(lst):\n",
    "    u = 1\n",
    "    \n",
    "    for i in lst:\n",
    "        u*=i\n",
    "        \n",
    "    return u"
   ]
  },
  {
   "cell_type": "code",
   "execution_count": 116,
   "id": "91bd12ca",
   "metadata": {},
   "outputs": [
    {
     "data": {
      "text/plain": [
       "40320"
      ]
     },
     "execution_count": 116,
     "metadata": {},
     "output_type": "execute_result"
    }
   ],
   "source": [
    "product(lst)"
   ]
  },
  {
   "cell_type": "code",
   "execution_count": null,
   "id": "6186820e",
   "metadata": {},
   "outputs": [],
   "source": []
  },
  {
   "cell_type": "code",
   "execution_count": 117,
   "id": "9d4c536b",
   "metadata": {},
   "outputs": [],
   "source": [
    "from functools import reduce"
   ]
  },
  {
   "cell_type": "code",
   "execution_count": 118,
   "id": "a7137715",
   "metadata": {},
   "outputs": [
    {
     "data": {
      "text/plain": [
       "40320"
      ]
     },
     "execution_count": 118,
     "metadata": {},
     "output_type": "execute_result"
    }
   ],
   "source": [
    "reduce(lambda x,y:x*y, lst)"
   ]
  },
  {
   "cell_type": "code",
   "execution_count": null,
   "id": "a35d198d",
   "metadata": {},
   "outputs": [],
   "source": []
  }
 ],
 "metadata": {
  "kernelspec": {
   "display_name": "Python 3 (ipykernel)",
   "language": "python",
   "name": "python3"
  },
  "language_info": {
   "codemirror_mode": {
    "name": "ipython",
    "version": 3
   },
   "file_extension": ".py",
   "mimetype": "text/x-python",
   "name": "python",
   "nbconvert_exporter": "python",
   "pygments_lexer": "ipython3",
   "version": "3.11.5"
  }
 },
 "nbformat": 4,
 "nbformat_minor": 5
}
