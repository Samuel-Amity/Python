{
 "cells": [
  {
   "cell_type": "code",
   "execution_count": 10,
   "id": "22f259cc",
   "metadata": {},
   "outputs": [],
   "source": [
    "d = 10"
   ]
  },
  {
   "cell_type": "code",
   "execution_count": 11,
   "id": "791d9e6f",
   "metadata": {},
   "outputs": [],
   "source": [
    "c = 'python is fun'"
   ]
  },
  {
   "cell_type": "code",
   "execution_count": 12,
   "id": "2e0699b8",
   "metadata": {},
   "outputs": [],
   "source": [
    "a = 2.3"
   ]
  },
  {
   "cell_type": "code",
   "execution_count": 15,
   "id": "31889fd7",
   "metadata": {},
   "outputs": [
    {
     "ename": "SyntaxError",
     "evalue": "invalid syntax (2052408620.py, line 1)",
     "output_type": "error",
     "traceback": [
      "\u001b[1;36m  Cell \u001b[1;32mIn[15], line 1\u001b[1;36m\u001b[0m\n\u001b[1;33m    Control Flow :\u001b[0m\n\u001b[1;37m            ^\u001b[0m\n\u001b[1;31mSyntaxError\u001b[0m\u001b[1;31m:\u001b[0m invalid syntax\n"
     ]
    }
   ],
   "source": [
    "Control Flow :\n",
    "    1. conditional statements\n",
    "    2. Loops"
   ]
  },
  {
   "cell_type": "code",
   "execution_count": 17,
   "id": "23889a51",
   "metadata": {},
   "outputs": [
    {
     "ename": "SyntaxError",
     "evalue": "invalid syntax (2665326302.py, line 3)",
     "output_type": "error",
     "traceback": [
      "\u001b[1;36m  Cell \u001b[1;32mIn[17], line 3\u001b[1;36m\u001b[0m\n\u001b[1;33m    if\u001b[0m\n\u001b[1;37m      ^\u001b[0m\n\u001b[1;31mSyntaxError\u001b[0m\u001b[1;31m:\u001b[0m invalid syntax\n"
     ]
    }
   ],
   "source": [
    "#    1. conditional statements\n",
    "\n",
    "if\n",
    "elif\n",
    "else"
   ]
  },
  {
   "cell_type": "code",
   "execution_count": 22,
   "id": "633b87d7",
   "metadata": {},
   "outputs": [],
   "source": [
    "age = 10"
   ]
  },
  {
   "cell_type": "code",
   "execution_count": 112,
   "id": "ca6674dd",
   "metadata": {},
   "outputs": [
    {
     "name": "stdout",
     "output_type": "stream",
     "text": [
      "You are kid\n"
     ]
    }
   ],
   "source": [
    "if age>=18:\n",
    "    print(\"You are eligible for voting\")\n",
    "else:\n",
    "    print('You are kid')"
   ]
  },
  {
   "cell_type": "code",
   "execution_count": 25,
   "id": "6e0a69ff",
   "metadata": {},
   "outputs": [
    {
     "ename": "IndentationError",
     "evalue": "expected an indented block after 'if' statement on line 2 (643144813.py, line 3)",
     "output_type": "error",
     "traceback": [
      "\u001b[1;36m  Cell \u001b[1;32mIn[25], line 3\u001b[1;36m\u001b[0m\n\u001b[1;33m    print(\"You are eligible foer voting\")\u001b[0m\n\u001b[1;37m    ^\u001b[0m\n\u001b[1;31mIndentationError\u001b[0m\u001b[1;31m:\u001b[0m expected an indented block after 'if' statement on line 2\n"
     ]
    }
   ],
   "source": [
    "# IndentationError\n",
    "if age>=18:\n",
    "print(\"You are eligible foer voting\")\n",
    "else:\n",
    "    print('You are kid')"
   ]
  },
  {
   "cell_type": "code",
   "execution_count": 27,
   "id": "3c90d6f9",
   "metadata": {},
   "outputs": [
    {
     "name": "stdout",
     "output_type": "stream",
     "text": [
      "You are kid\n"
     ]
    }
   ],
   "source": [
    "if age>=18:\n",
    " print(\"You are eligible foer voting\")\n",
    "else:\n",
    " print('You are kid')"
   ]
  },
  {
   "cell_type": "code",
   "execution_count": 28,
   "id": "22d88eec",
   "metadata": {},
   "outputs": [
    {
     "name": "stdout",
     "output_type": "stream",
     "text": [
      "You are kid\n"
     ]
    }
   ],
   "source": [
    "if age>=18:\n",
    "           print(\"You are eligible foer voting\")\n",
    "else:\n",
    " print('You are kid')"
   ]
  },
  {
   "cell_type": "code",
   "execution_count": 33,
   "id": "6abee5e1",
   "metadata": {},
   "outputs": [
    {
     "name": "stdout",
     "output_type": "stream",
     "text": [
      "enter your age:12\n"
     ]
    }
   ],
   "source": [
    "age = int(input('enter your age:'))"
   ]
  },
  {
   "cell_type": "code",
   "execution_count": 34,
   "id": "23ce94e7",
   "metadata": {},
   "outputs": [
    {
     "name": "stdout",
     "output_type": "stream",
     "text": [
      "You are kid\n",
      "Grow up first\n"
     ]
    }
   ],
   "source": [
    "if age>=18:\n",
    "    print(\"You are eligible for voting\")\n",
    "    print('voting is your right')\n",
    "else:\n",
    "    print('You are kid')\n",
    "    print(\"Grow up first\")"
   ]
  },
  {
   "cell_type": "code",
   "execution_count": null,
   "id": "f57026e3",
   "metadata": {},
   "outputs": [],
   "source": []
  },
  {
   "cell_type": "code",
   "execution_count": null,
   "id": "39b0d859",
   "metadata": {},
   "outputs": [],
   "source": []
  },
  {
   "cell_type": "code",
   "execution_count": 45,
   "id": "ea4160df",
   "metadata": {},
   "outputs": [
    {
     "name": "stdout",
     "output_type": "stream",
     "text": [
      "enter any number :-5\n"
     ]
    }
   ],
   "source": [
    "number = int(input('enter any number :'))"
   ]
  },
  {
   "cell_type": "code",
   "execution_count": 46,
   "id": "ec030e78",
   "metadata": {},
   "outputs": [
    {
     "data": {
      "text/plain": [
       "-5"
      ]
     },
     "execution_count": 46,
     "metadata": {},
     "output_type": "execute_result"
    }
   ],
   "source": [
    "number"
   ]
  },
  {
   "cell_type": "code",
   "execution_count": 47,
   "id": "f8003d2b",
   "metadata": {},
   "outputs": [
    {
     "name": "stdout",
     "output_type": "stream",
     "text": [
      "its negative\n"
     ]
    }
   ],
   "source": [
    "if number>0:\n",
    "    print(\"Its positive\")\n",
    "elif number == 0:\n",
    "    print(\"its zero\")\n",
    "else:\n",
    "    print(\"its negative\")"
   ]
  },
  {
   "cell_type": "code",
   "execution_count": null,
   "id": "e58c0e31",
   "metadata": {},
   "outputs": [],
   "source": []
  },
  {
   "cell_type": "code",
   "execution_count": null,
   "id": "0f46ba21",
   "metadata": {},
   "outputs": [],
   "source": []
  },
  {
   "cell_type": "code",
   "execution_count": 48,
   "id": "c45aa329",
   "metadata": {},
   "outputs": [
    {
     "ename": "SyntaxError",
     "evalue": "invalid syntax (4282995218.py, line 1)",
     "output_type": "error",
     "traceback": [
      "\u001b[1;36m  Cell \u001b[1;32mIn[48], line 1\u001b[1;36m\u001b[0m\n\u001b[1;33m    -- elif ladder\u001b[0m\n\u001b[1;37m       ^\u001b[0m\n\u001b[1;31mSyntaxError\u001b[0m\u001b[1;31m:\u001b[0m invalid syntax\n"
     ]
    }
   ],
   "source": [
    "-- elif ladder"
   ]
  },
  {
   "cell_type": "code",
   "execution_count": 56,
   "id": "36aed9bf",
   "metadata": {},
   "outputs": [
    {
     "name": "stdout",
     "output_type": "stream",
     "text": [
      "enter your python marks :40\n"
     ]
    }
   ],
   "source": [
    "marks = int(input(\"enter your python marks :\"))"
   ]
  },
  {
   "cell_type": "code",
   "execution_count": 57,
   "id": "41965a53",
   "metadata": {},
   "outputs": [
    {
     "name": "stdout",
     "output_type": "stream",
     "text": [
      "fail-F\n"
     ]
    }
   ],
   "source": [
    "if marks>=90:\n",
    "    print(\"Grade -A\")\n",
    "elif marks>=80:\n",
    "    print(\"Grade - B\")\n",
    "elif marks>=70:\n",
    "    print('Grade-C')\n",
    "elif marks>=60:\n",
    "    print('grade-D')\n",
    "else:\n",
    "    print(\"fail-F\")"
   ]
  },
  {
   "cell_type": "code",
   "execution_count": null,
   "id": "ccc2726b",
   "metadata": {},
   "outputs": [],
   "source": []
  },
  {
   "cell_type": "code",
   "execution_count": 65,
   "id": "efc54363",
   "metadata": {},
   "outputs": [
    {
     "name": "stdout",
     "output_type": "stream",
     "text": [
      "enter your shopping amount20\n"
     ]
    }
   ],
   "source": [
    "spend = float(input('enter your shopping amount'))"
   ]
  },
  {
   "cell_type": "code",
   "execution_count": 66,
   "id": "c4b911cd",
   "metadata": {},
   "outputs": [
    {
     "name": "stdout",
     "output_type": "stream",
     "text": [
      "Not eligible for discount\n"
     ]
    }
   ],
   "source": [
    "if spend>10000:\n",
    "    print(\"You are eligible for a discount of 10 % \")\n",
    "elif 7000<spend<=10000:\n",
    "    print(\"you are eligible for a discount of 5%\")\n",
    "elif 5000<spend<=7000:\n",
    "    print('you are eliglbe for vouchers')\n",
    "elif 1000<spend<=5000:\n",
    "    print(\"You are VIP customer\")\n",
    "elif 100<spend<=1000:\n",
    "    print(\"you are movie tickets\")\n",
    "else:\n",
    "    print(\"Not eligible for discount\")"
   ]
  },
  {
   "cell_type": "code",
   "execution_count": null,
   "id": "c96e6012",
   "metadata": {},
   "outputs": [],
   "source": []
  },
  {
   "cell_type": "code",
   "execution_count": 67,
   "id": "8a17dbde",
   "metadata": {},
   "outputs": [
    {
     "ename": "SyntaxError",
     "evalue": "incomplete input (117975374.py, line 1)",
     "output_type": "error",
     "traceback": [
      "\u001b[1;36m  Cell \u001b[1;32mIn[67], line 1\u001b[1;36m\u001b[0m\n\u001b[1;33m    if ladder:\u001b[0m\n\u001b[1;37m              ^\u001b[0m\n\u001b[1;31mSyntaxError\u001b[0m\u001b[1;31m:\u001b[0m incomplete input\n"
     ]
    }
   ],
   "source": [
    "if ladder:"
   ]
  },
  {
   "cell_type": "code",
   "execution_count": 71,
   "id": "8c9a89c3",
   "metadata": {},
   "outputs": [
    {
     "name": "stdout",
     "output_type": "stream",
     "text": [
      "enter your shopping amount:2000\n"
     ]
    }
   ],
   "source": [
    "spend = float(input('enter your shopping amount:'))"
   ]
  },
  {
   "cell_type": "code",
   "execution_count": 72,
   "id": "d46eccfd",
   "metadata": {},
   "outputs": [
    {
     "name": "stdout",
     "output_type": "stream",
     "text": [
      "5%\n"
     ]
    }
   ],
   "source": [
    "if spend==1000:\n",
    "    print(\"10%\")\n",
    "if spend==2000:\n",
    "    print(\"5%\")\n",
    "if spend==3000:\n",
    "    print(\"vouchers\")"
   ]
  },
  {
   "cell_type": "code",
   "execution_count": null,
   "id": "8248f25b",
   "metadata": {},
   "outputs": [],
   "source": []
  },
  {
   "cell_type": "code",
   "execution_count": null,
   "id": "c8920af7",
   "metadata": {},
   "outputs": [],
   "source": []
  },
  {
   "cell_type": "code",
   "execution_count": 73,
   "id": "eed362ab",
   "metadata": {},
   "outputs": [],
   "source": [
    "# nesting : "
   ]
  },
  {
   "cell_type": "code",
   "execution_count": 82,
   "id": "76394aa0",
   "metadata": {},
   "outputs": [
    {
     "name": "stdout",
     "output_type": "stream",
     "text": [
      "enter any number :-6\n"
     ]
    }
   ],
   "source": [
    "number = int(input('enter any number :'))"
   ]
  },
  {
   "cell_type": "code",
   "execution_count": 83,
   "id": "1e720ec5",
   "metadata": {},
   "outputs": [
    {
     "name": "stdout",
     "output_type": "stream",
     "text": [
      "its negative\n"
     ]
    }
   ],
   "source": [
    "if number>=0:\n",
    "    if number==0:\n",
    "        print(\"its zero\")\n",
    "    else:\n",
    "        print(\"its positive\")\n",
    "else:\n",
    "    print(\"its negative\")"
   ]
  },
  {
   "cell_type": "code",
   "execution_count": null,
   "id": "73111f80",
   "metadata": {},
   "outputs": [],
   "source": []
  },
  {
   "cell_type": "code",
   "execution_count": 89,
   "id": "ce54eccd",
   "metadata": {},
   "outputs": [
    {
     "name": "stdout",
     "output_type": "stream",
     "text": [
      "enter any number :5\n"
     ]
    }
   ],
   "source": [
    "number = int(input('enter any number :'))"
   ]
  },
  {
   "cell_type": "code",
   "execution_count": 90,
   "id": "e70221a2",
   "metadata": {},
   "outputs": [
    {
     "name": "stdout",
     "output_type": "stream",
     "text": [
      "its five\n"
     ]
    }
   ],
   "source": [
    "if number>=0:\n",
    "    if number==0:\n",
    "        print(\"its zero\")\n",
    "    if number==5:\n",
    "        print('its five')\n",
    "    if number==10:\n",
    "        print(\"its ten\")\n",
    "    if number==15:\n",
    "        print(\"its fifteen\")\n",
    "        \n",
    "else:\n",
    "    print(\"its negative\")"
   ]
  },
  {
   "cell_type": "code",
   "execution_count": 101,
   "id": "9a17f169",
   "metadata": {},
   "outputs": [
    {
     "name": "stdout",
     "output_type": "stream",
     "text": [
      "enter any number :12\n"
     ]
    }
   ],
   "source": [
    "number = int(input('enter any number :'))"
   ]
  },
  {
   "cell_type": "code",
   "execution_count": 103,
   "id": "ec540a6d",
   "metadata": {},
   "outputs": [
    {
     "name": "stdout",
     "output_type": "stream",
     "text": [
      "its even\n"
     ]
    }
   ],
   "source": [
    "if number>=0:\n",
    "    if number==0:\n",
    "        print(\"its zero\")\n",
    "    if number==5:\n",
    "        print('its five')\n",
    "    if number==10:\n",
    "        print(\"its ten\")\n",
    "    if number==15:\n",
    "        print(\"its fifteen\")\n",
    "    if number%2==0:\n",
    "        print(\"its even\")\n",
    "    else:\n",
    "        print(\"its oddd\")\n",
    "        \n",
    "else:\n",
    "    print(\"its negative\")"
   ]
  },
  {
   "cell_type": "code",
   "execution_count": null,
   "id": "d116b913",
   "metadata": {},
   "outputs": [],
   "source": []
  },
  {
   "cell_type": "code",
   "execution_count": 110,
   "id": "d5f4c028",
   "metadata": {},
   "outputs": [
    {
     "name": "stdout",
     "output_type": "stream",
     "text": [
      "enter any number :5\n"
     ]
    }
   ],
   "source": [
    "number = int(input('enter any number :'))"
   ]
  },
  {
   "cell_type": "code",
   "execution_count": 111,
   "id": "e97228ba",
   "metadata": {},
   "outputs": [
    {
     "name": "stdout",
     "output_type": "stream",
     "text": [
      "its five\n",
      "its oddd\n"
     ]
    }
   ],
   "source": [
    "if number>=0:\n",
    "    if number==0:\n",
    "        print(\"its zero\")\n",
    "    if number==5:\n",
    "        print('its five')\n",
    "    if number==10:\n",
    "        print(\"its ten\")\n",
    "    if number==15:\n",
    "        print(\"its fifteen\")\n",
    "    if number%2==0:\n",
    "        print(\"its even\")\n",
    "    else:\n",
    "        print(\"its oddd\")\n",
    "        \n",
    "else:\n",
    "    print(\"its negative\")"
   ]
  },
  {
   "cell_type": "code",
   "execution_count": 108,
   "id": "dd1ecc3f",
   "metadata": {},
   "outputs": [
    {
     "name": "stdout",
     "output_type": "stream",
     "text": [
      "enter any number :5\n"
     ]
    }
   ],
   "source": [
    "number = int(input('enter any number :'))"
   ]
  },
  {
   "cell_type": "code",
   "execution_count": 109,
   "id": "03410cbb",
   "metadata": {},
   "outputs": [
    {
     "name": "stdout",
     "output_type": "stream",
     "text": [
      "its five\n",
      "its another number\n"
     ]
    }
   ],
   "source": [
    "if number>=0:\n",
    "    if number==0:\n",
    "        print(\"its zero\")\n",
    "    if number==5:\n",
    "        print('its five')\n",
    "    if number==10:\n",
    "        print(\"its ten\")\n",
    "    if number==15:\n",
    "        print(\"its fifteen\")\n",
    "    else:\n",
    "        print(\"its another number\")\n",
    "        \n",
    "else:\n",
    "    print(\"its negative\")"
   ]
  },
  {
   "cell_type": "code",
   "execution_count": null,
   "id": "9bf87d9d",
   "metadata": {},
   "outputs": [],
   "source": []
  },
  {
   "cell_type": "code",
   "execution_count": null,
   "id": "fb25e2fc",
   "metadata": {},
   "outputs": [],
   "source": []
  },
  {
   "cell_type": "code",
   "execution_count": 113,
   "id": "6140e63f",
   "metadata": {},
   "outputs": [
    {
     "name": "stdout",
     "output_type": "stream",
     "text": [
      "enter anny number :5\n"
     ]
    }
   ],
   "source": [
    "number = int(input('enter anny number :'))"
   ]
  },
  {
   "cell_type": "code",
   "execution_count": 114,
   "id": "1daec952",
   "metadata": {},
   "outputs": [
    {
     "name": "stdout",
     "output_type": "stream",
     "text": [
      "its odd\n"
     ]
    }
   ],
   "source": [
    "if number%2==0:\n",
    "    print(\"its even\")\n",
    "else:\n",
    "    print('its odd')"
   ]
  },
  {
   "cell_type": "code",
   "execution_count": null,
   "id": "952d70e6",
   "metadata": {},
   "outputs": [],
   "source": []
  },
  {
   "cell_type": "code",
   "execution_count": 115,
   "id": "f4d359cc",
   "metadata": {},
   "outputs": [
    {
     "name": "stdout",
     "output_type": "stream",
     "text": [
      "enter anny number :10\n",
      "enter anny number :12\n",
      "enter anny number :13\n"
     ]
    }
   ],
   "source": [
    "a = int(input('enter anny number :'))\n",
    "b = int(input('enter anny number :'))\n",
    "c = int(input('enter anny number :'))"
   ]
  },
  {
   "cell_type": "code",
   "execution_count": 116,
   "id": "f9eb5551",
   "metadata": {},
   "outputs": [],
   "source": [
    "if (a>=b) and (a>=c):\n",
    "    largest = a\n",
    "elif (b>=a) and (b>=c):\n",
    "    largest = b\n",
    "else:\n",
    "    largest = c\n",
    "    "
   ]
  },
  {
   "cell_type": "code",
   "execution_count": 117,
   "id": "f22d4cf7",
   "metadata": {},
   "outputs": [
    {
     "name": "stdout",
     "output_type": "stream",
     "text": [
      "The largest among three numbers are 13\n"
     ]
    }
   ],
   "source": [
    "print(f\"The largest among three numbers are {largest}\")"
   ]
  },
  {
   "cell_type": "code",
   "execution_count": 1,
   "id": "1282c826",
   "metadata": {},
   "outputs": [
    {
     "ename": "SyntaxError",
     "evalue": "invalid syntax (1962137393.py, line 1)",
     "output_type": "error",
     "traceback": [
      "\u001b[1;36m  Cell \u001b[1;32mIn[1], line 1\u001b[1;36m\u001b[0m\n\u001b[1;33m    Question 3: Leap Year Checker\u001b[0m\n\u001b[1;37m             ^\u001b[0m\n\u001b[1;31mSyntaxError\u001b[0m\u001b[1;31m:\u001b[0m invalid syntax\n"
     ]
    }
   ],
   "source": [
    "Question 3: Leap Year Checker \n",
    "Write a program that checks if a given year is a leap year. \n",
    "A leap year is either divisible by 4 but not by 100, or divisible by 400."
   ]
  },
  {
   "cell_type": "code",
   "execution_count": 2,
   "id": "a0db9502",
   "metadata": {},
   "outputs": [
    {
     "ename": "SyntaxError",
     "evalue": "unterminated string literal (detected at line 3) (1297566215.py, line 3)",
     "output_type": "error",
     "traceback": [
      "\u001b[1;36m  Cell \u001b[1;32mIn[2], line 3\u001b[1;36m\u001b[0m\n\u001b[1;33m    determines whether it's an equilateral, isosceles, or scalene triangle.\u001b[0m\n\u001b[1;37m                         ^\u001b[0m\n\u001b[1;31mSyntaxError\u001b[0m\u001b[1;31m:\u001b[0m unterminated string literal (detected at line 3)\n"
     ]
    }
   ],
   "source": [
    "Question 5: Triangle Type \n",
    "Write a program that takes the lengths of three sides of a triangle as input and \n",
    "determines whether it's an equilateral, isosceles, or scalene triangle."
   ]
  },
  {
   "cell_type": "code",
   "execution_count": null,
   "id": "00a0f914",
   "metadata": {},
   "outputs": [],
   "source": []
  },
  {
   "cell_type": "code",
   "execution_count": 4,
   "id": "2bf307a2",
   "metadata": {},
   "outputs": [
    {
     "ename": "SyntaxError",
     "evalue": "invalid syntax (2488752398.py, line 3)",
     "output_type": "error",
     "traceback": [
      "\u001b[1;36m  Cell \u001b[1;32mIn[4], line 3\u001b[1;36m\u001b[0m\n\u001b[1;33m    1. While loop\u001b[0m\n\u001b[1;37m       ^\u001b[0m\n\u001b[1;31mSyntaxError\u001b[0m\u001b[1;31m:\u001b[0m invalid syntax\n"
     ]
    }
   ],
   "source": [
    "# Loops\n",
    "\n",
    "1. While loop\n",
    "2. For loop"
   ]
  },
  {
   "cell_type": "code",
   "execution_count": null,
   "id": "600ac707",
   "metadata": {},
   "outputs": [],
   "source": []
  },
  {
   "cell_type": "code",
   "execution_count": 5,
   "id": "30d9acea",
   "metadata": {},
   "outputs": [
    {
     "name": "stdout",
     "output_type": "stream",
     "text": [
      "2\n",
      "4\n",
      "6\n",
      "8\n",
      "10\n",
      "12\n",
      "14\n",
      "16\n",
      "18\n",
      "20\n"
     ]
    }
   ],
   "source": [
    "print(2)\n",
    "print(4)\n",
    "print(6)\n",
    "print(8)\n",
    "print(10)\n",
    "print(12)\n",
    "print(14)\n",
    "print(16)\n",
    "print(18)\n",
    "print(20)"
   ]
  },
  {
   "cell_type": "code",
   "execution_count": 6,
   "id": "ce9c3302",
   "metadata": {},
   "outputs": [
    {
     "ename": "SyntaxError",
     "evalue": "invalid syntax (498047000.py, line 1)",
     "output_type": "error",
     "traceback": [
      "\u001b[1;36m  Cell \u001b[1;32mIn[6], line 1\u001b[1;36m\u001b[0m\n\u001b[1;33m    DRY : dont reapeat yourself\u001b[0m\n\u001b[1;37m               ^\u001b[0m\n\u001b[1;31mSyntaxError\u001b[0m\u001b[1;31m:\u001b[0m invalid syntax\n"
     ]
    }
   ],
   "source": [
    "DRY : dont reapeat yourself"
   ]
  },
  {
   "cell_type": "code",
   "execution_count": 7,
   "id": "de682780",
   "metadata": {},
   "outputs": [],
   "source": [
    "#1. While loop\n",
    "# finite Loop\n",
    "# infinte Loop"
   ]
  },
  {
   "cell_type": "code",
   "execution_count": 8,
   "id": "558214b3",
   "metadata": {},
   "outputs": [],
   "source": [
    "# finite Loop - #1. While loop"
   ]
  },
  {
   "cell_type": "code",
   "execution_count": 9,
   "id": "333a4e34",
   "metadata": {},
   "outputs": [
    {
     "ename": "SyntaxError",
     "evalue": "invalid syntax (493780084.py, line 1)",
     "output_type": "error",
     "traceback": [
      "\u001b[1;36m  Cell \u001b[1;32mIn[9], line 1\u001b[1;36m\u001b[0m\n\u001b[1;33m    process:\u001b[0m\n\u001b[1;37m            ^\u001b[0m\n\u001b[1;31mSyntaxError\u001b[0m\u001b[1;31m:\u001b[0m invalid syntax\n"
     ]
    }
   ],
   "source": [
    "process:\n",
    "1. Intilization\n",
    "2. Stopping condition\n",
    "3. Updation"
   ]
  },
  {
   "cell_type": "code",
   "execution_count": 17,
   "id": "60863750",
   "metadata": {},
   "outputs": [
    {
     "name": "stdout",
     "output_type": "stream",
     "text": [
      "1\n",
      "2\n",
      "3\n",
      "4\n",
      "5\n",
      "6\n",
      "7\n",
      "8\n",
      "9\n",
      "10\n",
      "ALL done\n"
     ]
    }
   ],
   "source": [
    "i = 1\n",
    "while i<=10:\n",
    "    print(i)  \n",
    "    i+=1\n",
    "else:\n",
    "    print('ALL done')"
   ]
  },
  {
   "cell_type": "code",
   "execution_count": 18,
   "id": "48c3e1e0",
   "metadata": {},
   "outputs": [
    {
     "name": "stdout",
     "output_type": "stream",
     "text": [
      "2\n",
      "4\n",
      "6\n",
      "8\n",
      "10\n",
      "no element left\n"
     ]
    }
   ],
   "source": [
    "i = 1\n",
    "while i<=10:\n",
    "    if i%2==0:\n",
    "        print(i) \n",
    "    i+=1\n",
    "else:\n",
    "    print('no element left')"
   ]
  },
  {
   "cell_type": "code",
   "execution_count": null,
   "id": "1b623eec",
   "metadata": {},
   "outputs": [],
   "source": []
  },
  {
   "cell_type": "code",
   "execution_count": null,
   "id": "0525eacb",
   "metadata": {},
   "outputs": [],
   "source": []
  },
  {
   "cell_type": "code",
   "execution_count": 20,
   "id": "f9729a95",
   "metadata": {},
   "outputs": [
    {
     "data": {
      "text/plain": [
       "[0, 1, 2, 3, 4, 5, 6, 7, 8, 9]"
      ]
     },
     "execution_count": 20,
     "metadata": {},
     "output_type": "execute_result"
    }
   ],
   "source": [
    "list(range(10))"
   ]
  },
  {
   "cell_type": "code",
   "execution_count": 22,
   "id": "d85d97df",
   "metadata": {},
   "outputs": [
    {
     "data": {
      "text/plain": [
       "[1, 2, 3, 4, 5, 6, 7, 8, 9, 10, 11, 12, 13, 14, 15, 16, 17, 18, 19]"
      ]
     },
     "execution_count": 22,
     "metadata": {},
     "output_type": "execute_result"
    }
   ],
   "source": [
    "list(range(1,20))"
   ]
  },
  {
   "cell_type": "code",
   "execution_count": 26,
   "id": "f05580b5",
   "metadata": {},
   "outputs": [
    {
     "data": {
      "text/plain": [
       "[1,\n",
       " 3,\n",
       " 5,\n",
       " 7,\n",
       " 9,\n",
       " 11,\n",
       " 13,\n",
       " 15,\n",
       " 17,\n",
       " 19,\n",
       " 21,\n",
       " 23,\n",
       " 25,\n",
       " 27,\n",
       " 29,\n",
       " 31,\n",
       " 33,\n",
       " 35,\n",
       " 37,\n",
       " 39,\n",
       " 41,\n",
       " 43,\n",
       " 45,\n",
       " 47,\n",
       " 49]"
      ]
     },
     "execution_count": 26,
     "metadata": {},
     "output_type": "execute_result"
    }
   ],
   "source": [
    "list(range(1,50,2))"
   ]
  },
  {
   "cell_type": "code",
   "execution_count": 31,
   "id": "1a3f3a08",
   "metadata": {},
   "outputs": [
    {
     "data": {
      "text/plain": [
       "(1, 2, 3, 4, 5, 6, 7, 8, 9, 10)"
      ]
     },
     "execution_count": 31,
     "metadata": {},
     "output_type": "execute_result"
    }
   ],
   "source": [
    "tuple(range(1,11))"
   ]
  },
  {
   "cell_type": "code",
   "execution_count": 27,
   "id": "40f55fb5",
   "metadata": {},
   "outputs": [],
   "source": [
    "# for "
   ]
  },
  {
   "cell_type": "code",
   "execution_count": 32,
   "id": "23734635",
   "metadata": {},
   "outputs": [
    {
     "name": "stdout",
     "output_type": "stream",
     "text": [
      "1\n",
      "2\n",
      "3\n",
      "4\n",
      "5\n",
      "6\n",
      "7\n",
      "8\n",
      "9\n",
      "10\n"
     ]
    }
   ],
   "source": [
    "for i in (1, 2, 3, 4, 5, 6, 7, 8, 9, 10):\n",
    "    print(i)"
   ]
  },
  {
   "cell_type": "code",
   "execution_count": 33,
   "id": "4e5c33c7",
   "metadata": {},
   "outputs": [
    {
     "name": "stdout",
     "output_type": "stream",
     "text": [
      "1\n",
      "2\n",
      "3\n",
      "4\n",
      "5\n",
      "6\n",
      "7\n",
      "8\n",
      "9\n",
      "10\n"
     ]
    }
   ],
   "source": [
    "for i in range(1,11):\n",
    "    print(i)"
   ]
  },
  {
   "cell_type": "code",
   "execution_count": null,
   "id": "59685720",
   "metadata": {},
   "outputs": [],
   "source": []
  },
  {
   "cell_type": "code",
   "execution_count": 36,
   "id": "14b6a170",
   "metadata": {},
   "outputs": [
    {
     "name": "stdout",
     "output_type": "stream",
     "text": [
      "2\n",
      "4\n",
      "6\n",
      "8\n",
      "10\n",
      "12\n",
      "14\n",
      "16\n",
      "18\n",
      "20\n",
      "all done\n"
     ]
    }
   ],
   "source": [
    "for i in range(1,21):\n",
    "    if i%2==0:\n",
    "        print(i)\n",
    "else:\n",
    "    print('all done')"
   ]
  },
  {
   "cell_type": "code",
   "execution_count": 38,
   "id": "5456fc32",
   "metadata": {},
   "outputs": [
    {
     "name": "stdout",
     "output_type": "stream",
     "text": [
      "Enter a number: 12\n",
      "12x1=12\n",
      "12x2=24\n",
      "12x3=36\n",
      "12x4=48\n",
      "12x5=60\n",
      "12x6=72\n",
      "12x7=84\n",
      "12x8=96\n",
      "12x9=108\n",
      "12x10=120\n"
     ]
    }
   ],
   "source": [
    "num = int(input(\"Enter a number: \"))\n",
    "for i in range(1, 11):\n",
    "    print(f\"{num}x{i}={num*i}\")"
   ]
  },
  {
   "cell_type": "code",
   "execution_count": 39,
   "id": "3d23eb50",
   "metadata": {},
   "outputs": [
    {
     "name": "stdout",
     "output_type": "stream",
     "text": [
      "35\n",
      "70\n",
      "105\n",
      "140\n",
      "175\n",
      "210\n",
      "245\n",
      "280\n",
      "315\n",
      "350\n",
      "385\n",
      "420\n",
      "455\n",
      "490\n"
     ]
    }
   ],
   "source": [
    "for i in range(1,501):\n",
    "    if i%5==0 and i%7==0:\n",
    "        print(i)"
   ]
  },
  {
   "cell_type": "code",
   "execution_count": 41,
   "id": "2e0318e8",
   "metadata": {},
   "outputs": [
    {
     "name": "stdout",
     "output_type": "stream",
     "text": [
      "35\n",
      "70\n",
      "105\n",
      "140\n",
      "175\n",
      "210\n",
      "245\n",
      "280\n",
      "315\n",
      "350\n",
      "385\n",
      "420\n",
      "455\n",
      "490\n"
     ]
    }
   ],
   "source": [
    "for i in range(1,501):\n",
    "    if i%5==0 and i%7==0:\n",
    "        print(i)"
   ]
  },
  {
   "cell_type": "code",
   "execution_count": null,
   "id": "9285f29d",
   "metadata": {},
   "outputs": [],
   "source": []
  },
  {
   "cell_type": "code",
   "execution_count": 42,
   "id": "9fdfcd14",
   "metadata": {},
   "outputs": [],
   "source": [
    "# break, continue and pass"
   ]
  },
  {
   "cell_type": "code",
   "execution_count": 45,
   "id": "d17600c6",
   "metadata": {},
   "outputs": [
    {
     "name": "stdout",
     "output_type": "stream",
     "text": [
      "1\n",
      "2\n",
      "3\n",
      "4\n"
     ]
    }
   ],
   "source": [
    "for i in range(1,10):\n",
    "    if i==5:\n",
    "        break\n",
    "    print(i)\n",
    "else:\n",
    "    print(\"all done\")"
   ]
  },
  {
   "cell_type": "code",
   "execution_count": 46,
   "id": "a74028e1",
   "metadata": {},
   "outputs": [
    {
     "name": "stdout",
     "output_type": "stream",
     "text": [
      "1\n",
      "2\n",
      "3\n",
      "4\n",
      "6\n",
      "7\n",
      "8\n",
      "9\n",
      "all done\n"
     ]
    }
   ],
   "source": [
    "for i in range(1,10):\n",
    "    if i==5:\n",
    "        continue\n",
    "    print(i)\n",
    "else:\n",
    "    print(\"all done\")"
   ]
  },
  {
   "cell_type": "code",
   "execution_count": 49,
   "id": "a8f4e0b7",
   "metadata": {},
   "outputs": [],
   "source": [
    "for i in range(1,10):\n",
    "    pass"
   ]
  },
  {
   "cell_type": "code",
   "execution_count": 51,
   "id": "1f943880",
   "metadata": {},
   "outputs": [],
   "source": [
    "if 4>5:\n",
    "    pass"
   ]
  },
  {
   "cell_type": "code",
   "execution_count": null,
   "id": "6d41ba84",
   "metadata": {},
   "outputs": [],
   "source": []
  },
  {
   "cell_type": "code",
   "execution_count": 56,
   "id": "8163be36",
   "metadata": {},
   "outputs": [],
   "source": [
    "# While True - infinte loop"
   ]
  },
  {
   "cell_type": "code",
   "execution_count": 66,
   "id": "1ac67029",
   "metadata": {},
   "outputs": [
    {
     "name": "stdout",
     "output_type": "stream",
     "text": [
      "enter any number :10\n"
     ]
    }
   ],
   "source": [
    "number = int(input('enter any number :'))"
   ]
  },
  {
   "cell_type": "code",
   "execution_count": 67,
   "id": "ae148c75",
   "metadata": {},
   "outputs": [],
   "source": [
    "sum_30 = 0\n",
    "\n",
    "while True:\n",
    "    sum_30+=number\n",
    "    \n",
    "    number-=1\n",
    "    \n",
    "    if number==0:\n",
    "        break"
   ]
  },
  {
   "cell_type": "code",
   "execution_count": 68,
   "id": "5437b1d1",
   "metadata": {},
   "outputs": [
    {
     "name": "stdout",
     "output_type": "stream",
     "text": [
      "sum of first n natural numbers are : 55\n"
     ]
    }
   ],
   "source": [
    "print('sum of first n natural numbers are : {}'.format(sum_30))"
   ]
  },
  {
   "cell_type": "code",
   "execution_count": null,
   "id": "605ea4bc",
   "metadata": {},
   "outputs": [],
   "source": []
  }
 ],
 "metadata": {
  "kernelspec": {
   "display_name": "Python 3 (ipykernel)",
   "language": "python",
   "name": "python3"
  },
  "language_info": {
   "codemirror_mode": {
    "name": "ipython",
    "version": 3
   },
   "file_extension": ".py",
   "mimetype": "text/x-python",
   "name": "python",
   "nbconvert_exporter": "python",
   "pygments_lexer": "ipython3",
   "version": "3.11.5"
  }
 },
 "nbformat": 4,
 "nbformat_minor": 5
}
