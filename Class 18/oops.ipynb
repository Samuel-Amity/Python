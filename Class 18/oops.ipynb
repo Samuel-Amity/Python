{
 "cells": [
  {
   "cell_type": "code",
   "execution_count": 2,
   "metadata": {},
   "outputs": [],
   "source": [
    "#OOps = Object oriented programming system"
   ]
  },
  {
   "cell_type": "code",
   "execution_count": null,
   "metadata": {},
   "outputs": [],
   "source": [
    "# WIth the help of oops we make applications and softwares\n",
    "# oops provides us access modifier: we can hide our data\n",
    "\n",
    "# #pop : procedural oriented programming system\n",
    "# we can not hide our data in pop"
   ]
  },
  {
   "cell_type": "code",
   "execution_count": null,
   "metadata": {},
   "outputs": [],
   "source": [
    "# # # # # # # oops: it depends upon 6 pillars\n",
    "# # # # # # # Abstraction : SHowing only the essential details to the user.\n",
    "# # # # #       hiding the implementation        \n",
    "# # # # #           eg. ATM Machine, Show room working of a car\n",
    "\n",
    "# # # # # # 2. Encapsulation : Wrapping up all the details, methords and proerties into one unit.\n",
    "# # # #         for eg. School system, how a car operates\n",
    "\n",
    "# # # # # # 3. inheritance : Extraction of proerties and methorsa from one class to another class\n",
    "# # #             for eg. Son inherriting father's property \n",
    "        \n",
    "# # # # # # 4. polymorphysim : Poly = Many , Morph = Forms - Ability of amessage to convery it into diffrent forms\n",
    "# #             for eg: a person is diffrent at diffrent position\n",
    "\n",
    "# # # # # # 5. CLass : Blueprint or model of a real world entity\n",
    "#             for eg. Humans are the class and then diffrent ppl are the object\n",
    "# # # # # # 6. object : Instances of a Class"
   ]
  },
  {
   "cell_type": "code",
   "execution_count": 3,
   "metadata": {},
   "outputs": [],
   "source": [
    "class Vehical:\n",
    "    pass"
   ]
  },
  {
   "cell_type": "code",
   "execution_count": 4,
   "metadata": {},
   "outputs": [],
   "source": [
    "class Bank:\n",
    "    pass"
   ]
  },
  {
   "cell_type": "code",
   "execution_count": 5,
   "metadata": {},
   "outputs": [],
   "source": [
    "class Human:\n",
    "    pass"
   ]
  },
  {
   "cell_type": "code",
   "execution_count": 6,
   "metadata": {},
   "outputs": [
    {
     "data": {
      "text/plain": [
       "type"
      ]
     },
     "execution_count": 6,
     "metadata": {},
     "output_type": "execute_result"
    }
   ],
   "source": [
    "type(Human )"
   ]
  },
  {
   "cell_type": "code",
   "execution_count": 8,
   "metadata": {},
   "outputs": [
    {
     "data": {
      "text/plain": [
       "__main__.Human"
      ]
     },
     "execution_count": 8,
     "metadata": {},
     "output_type": "execute_result"
    }
   ],
   "source": [
    "Human"
   ]
  },
  {
   "cell_type": "code",
   "execution_count": 14,
   "metadata": {},
   "outputs": [
    {
     "data": {
      "text/plain": [
       "int"
      ]
     },
     "execution_count": 14,
     "metadata": {},
     "output_type": "execute_result"
    }
   ],
   "source": [
    "type()"
   ]
  },
  {
   "cell_type": "code",
   "execution_count": 9,
   "metadata": {},
   "outputs": [],
   "source": [
    "k = 10"
   ]
  },
  {
   "cell_type": "code",
   "execution_count": 10,
   "metadata": {},
   "outputs": [],
   "source": [
    "class Human:\n",
    "    pass"
   ]
  },
  {
   "cell_type": "code",
   "execution_count": 11,
   "metadata": {},
   "outputs": [],
   "source": [
    "obj1 = Human()"
   ]
  },
  {
   "cell_type": "code",
   "execution_count": 12,
   "metadata": {},
   "outputs": [
    {
     "data": {
      "text/plain": [
       "<__main__.Human at 0x227e8de15d0>"
      ]
     },
     "execution_count": 12,
     "metadata": {},
     "output_type": "execute_result"
    }
   ],
   "source": [
    "obj1"
   ]
  },
  {
   "cell_type": "code",
   "execution_count": 15,
   "metadata": {},
   "outputs": [],
   "source": [
    "# Methords and porperties"
   ]
  },
  {
   "cell_type": "code",
   "execution_count": null,
   "metadata": {},
   "outputs": [],
   "source": [
    "# # # Constructor - Are the spacial member functions :\n",
    "# #  they are automatically called whenver \n",
    "# # a certain event occurs\n",
    "\n",
    "# #  it starts with __\n",
    "# __builtins__, __init__ \n",
    "\n",
    "# __ = Dunder: Dunder function"
   ]
  },
  {
   "cell_type": "code",
   "execution_count": 3,
   "metadata": {},
   "outputs": [],
   "source": [
    "class Human:\n",
    "    def __init__(self,name,age):\n",
    "        print(\"object is created...\")\n",
    "        #attrebuted referances / instance variable\n",
    "        self.name = name\n",
    "        self.age = age\n",
    "\n",
    "    def introduce(self):\n",
    "        print(f\"Hi my name is  { self.name} and i am { self.age} years old\")"
   ]
  },
  {
   "cell_type": "code",
   "execution_count": null,
   "metadata": {},
   "outputs": [],
   "source": []
  },
  {
   "cell_type": "code",
   "execution_count": 1,
   "metadata": {},
   "outputs": [],
   "source": [
    "class Human:\n",
    "    # class variable\n",
    "    database = []\n",
    "    id_seq = 101\n",
    "    population = 0\n",
    "\n",
    "\n",
    "    def __init__(self,name,age, is_alive = True):\n",
    "        print(\"object is created...\")\n",
    "        #attrebuted referances / instance variable\n",
    "        self.name = name\n",
    "        self.age = age\n",
    "        self.is_alive = is_alive\n",
    "\n",
    "        self.id = Human.id_seq\n",
    "        Human.id_seq+=1\n",
    "        Human.population+=1\n",
    "\n",
    "        Human.database.append(self)\n",
    "\n",
    "    def introduce(self):\n",
    "        print(f\"Hi my name is  { self.name} and i am { self.age} years old\")\n",
    "\n",
    "    def die(self):\n",
    "        if self.is_alive:\n",
    "            print(f'{self.name} is dying')\n",
    "            self.is_alive = False\n",
    "            Human.population-=1\n",
    "        else:\n",
    "            print(\"Raavi is alr dead\")\n",
    "    def __repr__(self):\n",
    "        \"\"\"It will represent our string\"\"\"\n",
    "        return f\"[{self.id}, {self.name}, {self.age}, {self.is_alive}]\""
   ]
  },
  {
   "cell_type": "code",
   "execution_count": null,
   "metadata": {},
   "outputs": [],
   "source": []
  },
  {
   "cell_type": "code",
   "execution_count": 2,
   "metadata": {},
   "outputs": [
    {
     "name": "stdout",
     "output_type": "stream",
     "text": [
      "object is created...\n"
     ]
    }
   ],
   "source": [
    "obj1 = Human('prateek', 28)"
   ]
  },
  {
   "cell_type": "code",
   "execution_count": 5,
   "metadata": {},
   "outputs": [
    {
     "data": {
      "text/plain": [
       "101"
      ]
     },
     "execution_count": 5,
     "metadata": {},
     "output_type": "execute_result"
    }
   ],
   "source": [
    "obj1.id"
   ]
  },
  {
   "cell_type": "code",
   "execution_count": 6,
   "metadata": {},
   "outputs": [
    {
     "data": {
      "text/plain": [
       "28"
      ]
     },
     "execution_count": 6,
     "metadata": {},
     "output_type": "execute_result"
    }
   ],
   "source": [
    "obj1.age"
   ]
  },
  {
   "cell_type": "code",
   "execution_count": 7,
   "metadata": {},
   "outputs": [
    {
     "data": {
      "text/plain": [
       "True"
      ]
     },
     "execution_count": 7,
     "metadata": {},
     "output_type": "execute_result"
    }
   ],
   "source": [
    "obj1.is_alive\n"
   ]
  },
  {
   "cell_type": "code",
   "execution_count": 11,
   "metadata": {},
   "outputs": [
    {
     "name": "stdout",
     "output_type": "stream",
     "text": [
      "Hi my name is  prateek and i am 28 years old\n"
     ]
    }
   ],
   "source": [
    "obj1.introduce()"
   ]
  },
  {
   "cell_type": "code",
   "execution_count": 12,
   "metadata": {},
   "outputs": [
    {
     "data": {
      "text/plain": [
       "1"
      ]
     },
     "execution_count": 12,
     "metadata": {},
     "output_type": "execute_result"
    }
   ],
   "source": [
    "Human.population"
   ]
  },
  {
   "cell_type": "code",
   "execution_count": 13,
   "metadata": {},
   "outputs": [
    {
     "data": {
      "text/plain": [
       "[[101, prateek, 28, True]]"
      ]
     },
     "execution_count": 13,
     "metadata": {},
     "output_type": "execute_result"
    }
   ],
   "source": [
    "Human.database"
   ]
  },
  {
   "cell_type": "code",
   "execution_count": null,
   "metadata": {},
   "outputs": [],
   "source": []
  },
  {
   "cell_type": "code",
   "execution_count": 15,
   "metadata": {},
   "outputs": [
    {
     "name": "stdout",
     "output_type": "stream",
     "text": [
      "object is created...\n"
     ]
    }
   ],
   "source": [
    "obj2 = Human('rahul', 25)"
   ]
  },
  {
   "cell_type": "code",
   "execution_count": 14,
   "metadata": {},
   "outputs": [
    {
     "name": "stdout",
     "output_type": "stream",
     "text": [
      "object is created...\n"
     ]
    }
   ],
   "source": [
    "obj3 = Human('ravi', 30)"
   ]
  },
  {
   "cell_type": "code",
   "execution_count": 16,
   "metadata": {},
   "outputs": [
    {
     "data": {
      "text/plain": [
       "<bound method Human.die of [102, ravi, 30, True]>"
      ]
     },
     "execution_count": 16,
     "metadata": {},
     "output_type": "execute_result"
    }
   ],
   "source": [
    "obj3.die"
   ]
  },
  {
   "cell_type": "code",
   "execution_count": 22,
   "metadata": {},
   "outputs": [
    {
     "data": {
      "text/plain": [
       "<bound method Human.die of <__main__.Human object at 0x000001CDC319A110>>"
      ]
     },
     "execution_count": 22,
     "metadata": {},
     "output_type": "execute_result"
    }
   ],
   "source": [
    "obj3.die"
   ]
  },
  {
   "cell_type": "code",
   "execution_count": 17,
   "metadata": {},
   "outputs": [
    {
     "data": {
      "text/plain": [
       "3"
      ]
     },
     "execution_count": 17,
     "metadata": {},
     "output_type": "execute_result"
    }
   ],
   "source": [
    "Human.population"
   ]
  },
  {
   "cell_type": "code",
   "execution_count": null,
   "metadata": {},
   "outputs": [],
   "source": []
  }
 ],
 "metadata": {
  "kernelspec": {
   "display_name": "Python 3 (ipykernel)",
   "language": "python",
   "name": "python3"
  },
  "language_info": {
   "codemirror_mode": {
    "name": "ipython",
    "version": 3
   },
   "file_extension": ".py",
   "mimetype": "text/x-python",
   "name": "python",
   "nbconvert_exporter": "python",
   "pygments_lexer": "ipython3",
   "version": "3.11.5"
  }
 },
 "nbformat": 4,
 "nbformat_minor": 2
}
